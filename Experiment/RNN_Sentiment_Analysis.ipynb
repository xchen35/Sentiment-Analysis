{
  "nbformat": 4,
  "nbformat_minor": 0,
  "metadata": {
    "colab": {
      "name": "RNN Sentiment Analysis.ipynb",
      "version": "0.3.2",
      "provenance": [],
      "collapsed_sections": [],
      "include_colab_link": true
    },
    "kernelspec": {
      "name": "python3",
      "display_name": "Python 3"
    },
    "accelerator": "GPU"
  },
  "cells": [
    {
      "cell_type": "markdown",
      "metadata": {
        "id": "view-in-github",
        "colab_type": "text"
      },
      "source": [
        "<a href=\"https://colab.research.google.com/github/xchen35/Sentiment-Analysis/blob/master/RNN_Sentiment_Analysis.ipynb\" target=\"_parent\"><img src=\"https://colab.research.google.com/assets/colab-badge.svg\" alt=\"Open In Colab\"/></a>"
      ]
    },
    {
      "metadata": {
        "id": "y3GPWPpyR3JE",
        "colab_type": "code",
        "outputId": "bc752bd4-5b47-4a8a-f71d-b4b0232bf3d8",
        "colab": {
          "base_uri": "https://localhost:8080/",
          "height": 229
        }
      },
      "cell_type": "code",
      "source": [
        "# Load the Drive helper and mount\n",
        "from google.colab import drive\n",
        "\n",
        "# This will prompt for authorization.\n",
        "drive.mount('/content/drive')"
      ],
      "execution_count": 1,
      "outputs": [
        {
          "output_type": "stream",
          "text": [
            "Go to this URL in a browser: https://accounts.google.com/o/oauth2/auth?client_id=947318989803-6bn6qk8qdgf4n4g3pfee6491hc0brc4i.apps.googleusercontent.com&redirect_uri=urn%3Aietf%3Awg%3Aoauth%3A2.0%3Aoob&scope=email%20https%3A%2F%2Fwww.googleapis.com%2Fauth%2Fdocs.test%20https%3A%2F%2Fwww.googleapis.com%2Fauth%2Fdrive%20https%3A%2F%2Fwww.googleapis.com%2Fauth%2Fdrive.photos.readonly%20https%3A%2F%2Fwww.googleapis.com%2Fauth%2Fpeopleapi.readonly&response_type=code\n",
            "\n",
            "Enter your authorization code:\n",
            "··········\n",
            "Mounted at /content/drive\n"
          ],
          "name": "stdout"
        }
      ]
    },
    {
      "metadata": {
        "id": "AZvgJ78fSmsB",
        "colab_type": "code",
        "colab": {}
      },
      "cell_type": "code",
      "source": [
        "import json\n",
        "import pandas as pd\n",
        "import os\n",
        "import time\n",
        "import numpy as np\n",
        "from keras.preprocessing import text\n",
        "from keras.preprocessing.text import Tokenizer\n",
        "from keras.preprocessing.sequence import pad_sequences\n",
        "from sklearn.model_selection import train_test_split\n",
        "from keras.models import Sequential\n",
        "from keras.layers import Embedding, LSTM, Dense, Dropout\n",
        "from keras import metrics\n",
        "from keras.optimizers import RMSprop\n",
        "from keras import backend as K\n",
        "import matplotlib.pyplot as plt\n",
        "from keras import layers"
      ],
      "execution_count": 0,
      "outputs": []
    },
    {
      "metadata": {
        "id": "owqfkx335xdS",
        "colab_type": "text"
      },
      "cell_type": "markdown",
      "source": [
        "# **Experiment 1**\n",
        "**Sentiment Analysis Using Rnn Model**"
      ]
    },
    {
      "metadata": {
        "id": "1DKpQoyXSd4g",
        "colab_type": "code",
        "colab": {}
      },
      "cell_type": "code",
      "source": [
        "with open('/content/drive/My Drive/Complete.json') as f:\n",
        "    json = json.load(f)\n",
        "    \n",
        "dict_1 = dict(json)\n",
        "\n",
        "df = pd.DataFrame.from_dict(dict_1)"
      ],
      "execution_count": 0,
      "outputs": []
    },
    {
      "metadata": {
        "id": "-d5nZThiSpPL",
        "colab_type": "code",
        "outputId": "ac502d43-f1e9-4230-a1ff-9d8466604d2c",
        "colab": {
          "base_uri": "https://localhost:8080/",
          "height": 204
        }
      },
      "cell_type": "code",
      "source": [
        "df.head()"
      ],
      "execution_count": 25,
      "outputs": [
        {
          "output_type": "execute_result",
          "data": {
            "text/html": [
              "<div>\n",
              "<style scoped>\n",
              "    .dataframe tbody tr th:only-of-type {\n",
              "        vertical-align: middle;\n",
              "    }\n",
              "\n",
              "    .dataframe tbody tr th {\n",
              "        vertical-align: top;\n",
              "    }\n",
              "\n",
              "    .dataframe thead th {\n",
              "        text-align: right;\n",
              "    }\n",
              "</style>\n",
              "<table border=\"1\" class=\"dataframe\">\n",
              "  <thead>\n",
              "    <tr style=\"text-align: right;\">\n",
              "      <th></th>\n",
              "      <th>sentiment</th>\n",
              "      <th>text</th>\n",
              "    </tr>\n",
              "  </thead>\n",
              "  <tbody>\n",
              "    <tr>\n",
              "      <th>0</th>\n",
              "      <td>positive</td>\n",
              "      <td>Thank you, Ellen. We have a strong 2018, with ...</td>\n",
              "    </tr>\n",
              "    <tr>\n",
              "      <th>1</th>\n",
              "      <td>positive</td>\n",
              "      <td>Stock-based compensation totaled $2.3 billion....</td>\n",
              "    </tr>\n",
              "    <tr>\n",
              "      <th>10</th>\n",
              "      <td>negative</td>\n",
              "      <td>For the full-year 2018, Other Bets revenues we...</td>\n",
              "    </tr>\n",
              "    <tr>\n",
              "      <th>100</th>\n",
              "      <td>neutral</td>\n",
              "      <td>Great. Thank you. I just wanted to follow up o...</td>\n",
              "    </tr>\n",
              "    <tr>\n",
              "      <th>1000</th>\n",
              "      <td>Neutral</td>\n",
              "      <td>Operator</td>\n",
              "    </tr>\n",
              "  </tbody>\n",
              "</table>\n",
              "</div>"
            ],
            "text/plain": [
              "     sentiment                                               text\n",
              "0     positive  Thank you, Ellen. We have a strong 2018, with ...\n",
              "1     positive  Stock-based compensation totaled $2.3 billion....\n",
              "10    negative  For the full-year 2018, Other Bets revenues we...\n",
              "100    neutral  Great. Thank you. I just wanted to follow up o...\n",
              "1000   Neutral                                           Operator"
            ]
          },
          "metadata": {
            "tags": []
          },
          "execution_count": 25
        }
      ]
    },
    {
      "metadata": {
        "id": "-T6UUK_uSr22",
        "colab_type": "code",
        "colab": {}
      },
      "cell_type": "code",
      "source": [
        "for x in range(0, df.shape[0]):\n",
        "    if df[\"sentiment\"][x] == \"positive\":\n",
        "        df[\"sentiment\"][x] = 1\n",
        "    elif df[\"sentiment\"][x] == \"negative\":\n",
        "        df[\"sentiment\"][x] = -1\n",
        "    else:\n",
        "        df[\"sentiment\"][x] = 0"
      ],
      "execution_count": 0,
      "outputs": []
    },
    {
      "metadata": {
        "id": "d0jNpbfWSxGk",
        "colab_type": "code",
        "colab": {}
      },
      "cell_type": "code",
      "source": [
        "X, Y = (df['text'].values, df['sentiment'].values)"
      ],
      "execution_count": 0,
      "outputs": []
    },
    {
      "metadata": {
        "id": "8yh0w-fghSkH",
        "colab_type": "code",
        "colab": {}
      },
      "cell_type": "code",
      "source": [
        "df = df[df.sentiment != -1]"
      ],
      "execution_count": 0,
      "outputs": []
    },
    {
      "metadata": {
        "id": "vtrCcwc4hsIR",
        "colab_type": "code",
        "outputId": "9062866c-2056-4a34-d5f2-93a310debb71",
        "colab": {
          "base_uri": "https://localhost:8080/",
          "height": 34
        }
      },
      "cell_type": "code",
      "source": [
        "df.shape"
      ],
      "execution_count": 64,
      "outputs": [
        {
          "output_type": "execute_result",
          "data": {
            "text/plain": [
              "(1325, 2)"
            ]
          },
          "metadata": {
            "tags": []
          },
          "execution_count": 64
        }
      ]
    },
    {
      "metadata": {
        "id": "qcpbiEhRSxxG",
        "colab_type": "code",
        "colab": {}
      },
      "cell_type": "code",
      "source": [
        "tk = Tokenizer(num_words=300)\n",
        "tk.fit_on_texts(X)\n",
        "X_seq = tk.texts_to_sequences(X)\n",
        "X_pad = pad_sequences(X_seq, maxlen=300, padding='post')"
      ],
      "execution_count": 0,
      "outputs": []
    },
    {
      "metadata": {
        "id": "thLY27t8S0dF",
        "colab_type": "code",
        "colab": {}
      },
      "cell_type": "code",
      "source": [
        "X_train, X_test, Y_train, Y_test = train_test_split(X_pad, Y, test_size = 0.2, random_state = 1)"
      ],
      "execution_count": 0,
      "outputs": []
    },
    {
      "metadata": {
        "id": "i5sLpLSeS2lb",
        "colab_type": "code",
        "colab": {}
      },
      "cell_type": "code",
      "source": [
        "vocabulary_size = len(tk.word_counts.keys())+1\n",
        "max_words = 200\n",
        "embedding_size = 32\n",
        "batch_size = 128"
      ],
      "execution_count": 0,
      "outputs": []
    },
    {
      "metadata": {
        "id": "6JzkCEzgS48k",
        "colab_type": "code",
        "colab": {}
      },
      "cell_type": "code",
      "source": [
        "K.clear_session()\n",
        "model = Sequential()\n",
        "model.add(layers.Embedding(vocabulary_size, embedding_size))\n",
        "model.add(layers.Bidirectional(layers.LSTM(32)))\n",
        "model.add(Dropout(0.2))\n",
        "model.add(layers.Dense(1, activation='sigmoid'))\n",
        "model.compile(optimizer='rmsprop', loss='binary_crossentropy', metrics=['acc'])"
      ],
      "execution_count": 0,
      "outputs": []
    },
    {
      "metadata": {
        "id": "rbleBElK3K1Z",
        "colab_type": "code",
        "colab": {
          "base_uri": "https://localhost:8080/",
          "height": 272
        },
        "outputId": "ce91667b-f230-46e0-def2-caffd4b722b3"
      },
      "cell_type": "code",
      "source": [
        "model.summary()"
      ],
      "execution_count": 98,
      "outputs": [
        {
          "output_type": "stream",
          "text": [
            "_________________________________________________________________\n",
            "Layer (type)                 Output Shape              Param #   \n",
            "=================================================================\n",
            "embedding_1 (Embedding)      (None, None, 32)          178016    \n",
            "_________________________________________________________________\n",
            "bidirectional_1 (Bidirection (None, 64)                16640     \n",
            "_________________________________________________________________\n",
            "dropout_1 (Dropout)          (None, 64)                0         \n",
            "_________________________________________________________________\n",
            "dense_1 (Dense)              (None, 1)                 65        \n",
            "=================================================================\n",
            "Total params: 194,721\n",
            "Trainable params: 194,721\n",
            "Non-trainable params: 0\n",
            "_________________________________________________________________\n"
          ],
          "name": "stdout"
        }
      ]
    },
    {
      "metadata": {
        "id": "gwI5HzDFS7km",
        "colab_type": "code",
        "outputId": "daace60d-bfa3-47ba-d191-9a3d5976eb68",
        "colab": {
          "base_uri": "https://localhost:8080/",
          "height": 714
        }
      },
      "cell_type": "code",
      "source": [
        "history = model.fit(X_train, Y_train, epochs=20, batch_size=batch_size, validation_split=0.2)"
      ],
      "execution_count": 70,
      "outputs": [
        {
          "output_type": "stream",
          "text": [
            "Train on 848 samples, validate on 212 samples\n",
            "Epoch 1/20\n",
            "848/848 [==============================] - 9s 11ms/step - loss: 0.6415 - acc: 0.5542 - val_loss: 0.5692 - val_acc: 0.5849\n",
            "Epoch 2/20\n",
            "848/848 [==============================] - 8s 10ms/step - loss: 0.5419 - acc: 0.5566 - val_loss: 0.5341 - val_acc: 0.5849\n",
            "Epoch 3/20\n",
            "848/848 [==============================] - 9s 10ms/step - loss: 0.5109 - acc: 0.5566 - val_loss: 0.5288 - val_acc: 0.5849\n",
            "Epoch 4/20\n",
            "848/848 [==============================] - 8s 10ms/step - loss: 0.4694 - acc: 0.5566 - val_loss: 0.5080 - val_acc: 0.5896\n",
            "Epoch 5/20\n",
            "848/848 [==============================] - 8s 10ms/step - loss: 0.4422 - acc: 0.5696 - val_loss: 0.4944 - val_acc: 0.5991\n",
            "Epoch 6/20\n",
            "848/848 [==============================] - 8s 9ms/step - loss: 0.4007 - acc: 0.5955 - val_loss: 0.5126 - val_acc: 0.6085\n",
            "Epoch 7/20\n",
            "848/848 [==============================] - 8s 9ms/step - loss: 0.3730 - acc: 0.6238 - val_loss: 0.5183 - val_acc: 0.5991\n",
            "Epoch 8/20\n",
            "848/848 [==============================] - 9s 10ms/step - loss: 0.3382 - acc: 0.6474 - val_loss: 0.4975 - val_acc: 0.6226\n",
            "Epoch 9/20\n",
            "848/848 [==============================] - 8s 10ms/step - loss: 0.2922 - acc: 0.6698 - val_loss: 0.4936 - val_acc: 0.6321\n",
            "Epoch 10/20\n",
            "848/848 [==============================] - 9s 10ms/step - loss: 0.2727 - acc: 0.6946 - val_loss: 0.4689 - val_acc: 0.6604\n",
            "Epoch 11/20\n",
            "848/848 [==============================] - 8s 9ms/step - loss: 0.2349 - acc: 0.7028 - val_loss: 0.5657 - val_acc: 0.6226\n",
            "Epoch 12/20\n",
            "848/848 [==============================] - 8s 10ms/step - loss: 0.1929 - acc: 0.7170 - val_loss: 0.4797 - val_acc: 0.6840\n",
            "Epoch 13/20\n",
            "848/848 [==============================] - 7s 9ms/step - loss: 0.1575 - acc: 0.7500 - val_loss: 0.4827 - val_acc: 0.6934\n",
            "Epoch 14/20\n",
            "848/848 [==============================] - 8s 10ms/step - loss: 0.1249 - acc: 0.7524 - val_loss: 0.4890 - val_acc: 0.6840\n",
            "Epoch 15/20\n",
            "848/848 [==============================] - 7s 8ms/step - loss: 0.0971 - acc: 0.7465 - val_loss: 0.5393 - val_acc: 0.6557\n",
            "Epoch 16/20\n",
            "848/848 [==============================] - 8s 9ms/step - loss: 0.0730 - acc: 0.7583 - val_loss: 0.5067 - val_acc: 0.6887\n",
            "Epoch 17/20\n",
            "848/848 [==============================] - 8s 9ms/step - loss: 0.0157 - acc: 0.7594 - val_loss: 0.5046 - val_acc: 0.6887\n",
            "Epoch 18/20\n",
            "848/848 [==============================] - 9s 11ms/step - loss: -0.0089 - acc: 0.7665 - val_loss: 0.7321 - val_acc: 0.6557\n",
            "Epoch 19/20\n",
            "848/848 [==============================] - 8s 9ms/step - loss: 0.0106 - acc: 0.7512 - val_loss: 0.5232 - val_acc: 0.6887\n",
            "Epoch 20/20\n",
            "848/848 [==============================] - 7s 9ms/step - loss: 0.0112 - acc: 0.7087 - val_loss: 0.5419 - val_acc: 0.6840\n"
          ],
          "name": "stdout"
        }
      ]
    },
    {
      "metadata": {
        "id": "tPjn39woTTmX",
        "colab_type": "code",
        "outputId": "79f91184-995b-4ed5-cbb8-2ff233a062c7",
        "colab": {
          "base_uri": "https://localhost:8080/",
          "height": 34
        }
      },
      "cell_type": "code",
      "source": [
        "scores = model.evaluate(X_test, Y_test, verbose=0)\n",
        "print(\"Test accuracy\", scores[1])"
      ],
      "execution_count": 71,
      "outputs": [
        {
          "output_type": "stream",
          "text": [
            "Test accuracy 0.6754716985630539\n"
          ],
          "name": "stdout"
        }
      ]
    },
    {
      "metadata": {
        "id": "OZQ6z6FGmZyS",
        "colab_type": "code",
        "colab": {}
      },
      "cell_type": "code",
      "source": [
        "from sklearn.metrics import confusion_matrix \n",
        "from sklearn.metrics import accuracy_score \n",
        "from sklearn.metrics import classification_report "
      ],
      "execution_count": 0,
      "outputs": []
    },
    {
      "metadata": {
        "id": "L7loMo6pnbTF",
        "colab_type": "code",
        "colab": {}
      },
      "cell_type": "code",
      "source": [
        "actual = Y_test.astype(str).astype(int)"
      ],
      "execution_count": 0,
      "outputs": []
    },
    {
      "metadata": {
        "id": "egWuTvxWnk61",
        "colab_type": "code",
        "colab": {}
      },
      "cell_type": "code",
      "source": [
        "predicted = model.predict(X_test).argmax(axis=1)"
      ],
      "execution_count": 0,
      "outputs": []
    },
    {
      "metadata": {
        "id": "7BNZqd28naXr",
        "colab_type": "code",
        "colab": {
          "base_uri": "https://localhost:8080/",
          "height": 102
        },
        "outputId": "e143910b-6735-4af8-9fca-57adce87c37b"
      },
      "cell_type": "code",
      "source": [
        "results = confusion_matrix(actual, predicted) \n",
        "print('Confusion Matrix :')\n",
        "print(results) \n",
        "print('Accuracy Score :',accuracy_score(actual, predicted))"
      ],
      "execution_count": 80,
      "outputs": [
        {
          "output_type": "stream",
          "text": [
            "Confusion Matrix :\n",
            "[[  0  20   0]\n",
            " [  0 141   0]\n",
            " [  0 104   0]]\n",
            "Accuracy Score : 0.5320754716981132\n"
          ],
          "name": "stdout"
        }
      ]
    },
    {
      "metadata": {
        "id": "ho65vfV9TWzm",
        "colab_type": "code",
        "outputId": "23c43d5d-30fc-471a-f932-afb14fe7181a",
        "colab": {
          "base_uri": "https://localhost:8080/",
          "height": 707
        }
      },
      "cell_type": "code",
      "source": [
        "acc = history.history['acc']\n",
        "val_acc = history.history['val_acc']\n",
        "loss = history.history['loss']\n",
        "val_loss = history.history['val_loss']\n",
        " \n",
        "epoch = range(len(acc))\n",
        " \n",
        "plt.plot(epoch, acc, 'b', label='Training acc')\n",
        "plt.plot(epoch, val_acc, 'r', label='Validation acc')\n",
        "plt.title('Training and validation accuracy')\n",
        "plt.legend()\n",
        " \n",
        "plt.figure()\n",
        " \n",
        "plt.plot(epoch, loss, 'b', label='Training loss')\n",
        "plt.plot(epoch, val_loss, 'r', label='Validation loss')\n",
        "plt.title('Training and validation loss')\n",
        "plt.legend()\n",
        " \n",
        "plt.show()"
      ],
      "execution_count": 0,
      "outputs": [
        {
          "output_type": "display_data",
          "data": {
            "image/png": "[encoded data removed]",
            "text/plain": [
              "<Figure size 576x396 with 1 Axes>"
            ]
          },
          "metadata": {
            "tags": []
          }
        },
        {
          "output_type": "display_data",
          "data": {
            "image/png": "[encoded data removed]",
            "text/plain": [
              "<Figure size 576x396 with 1 Axes>"
            ]
          },
          "metadata": {
            "tags": []
          }
        }
      ]
    },
    {
      "metadata": {
        "id": "kpz5a1LY5pGj",
        "colab_type": "text"
      },
      "cell_type": "markdown",
      "source": [
        "#**Experiment 2**\n",
        "**Transfer Learning IMDB Data**"
      ]
    },
    {
      "metadata": {
        "id": "cDa3Nw8l44Hl",
        "colab_type": "code",
        "colab": {}
      },
      "cell_type": "code",
      "source": [
        "from keras.datasets import imdb"
      ],
      "execution_count": 0,
      "outputs": []
    },
    {
      "metadata": {
        "id": "GRWDCUDN4sg0",
        "colab_type": "code",
        "colab": {}
      },
      "cell_type": "code",
      "source": [
        "# Number of words to consider as features\n",
        "max_features = 5000\n",
        "# Cut texts after this number of words (among top max_features most common words)\n",
        "maxlen = 300\n",
        "\n",
        "# Load data\n",
        "(x_train, y_train), (x_test, y_test) = imdb.load_data(num_words=max_features)"
      ],
      "execution_count": 0,
      "outputs": []
    },
    {
      "metadata": {
        "id": "sduamhaJ40xe",
        "colab_type": "code",
        "colab": {}
      },
      "cell_type": "code",
      "source": [
        "from keras.preprocessing import sequence\n",
        "# Reverse sequences\n",
        "x_train = [x[::-1] for x in x_train]\n",
        "x_test = [x[::-1] for x in x_test]\n",
        "\n",
        "# Pad sequences\n",
        "x_train = sequence.pad_sequences(x_train, maxlen=maxlen)\n",
        "x_test = sequence.pad_sequences(x_test, maxlen=maxlen)"
      ],
      "execution_count": 0,
      "outputs": []
    },
    {
      "metadata": {
        "id": "79msJDt-4_NL",
        "colab_type": "code",
        "outputId": "ab1537a8-b891-4a98-f927-8517d54a3857",
        "colab": {
          "base_uri": "https://localhost:8080/",
          "height": 374
        }
      },
      "cell_type": "code",
      "source": [
        "history = model.fit(x_train, y_train,\n",
        "                    epochs=10,\n",
        "                    batch_size=128,\n",
        "                    validation_split=0.2)"
      ],
      "execution_count": 99,
      "outputs": [
        {
          "output_type": "stream",
          "text": [
            "Train on 20000 samples, validate on 5000 samples\n",
            "Epoch 1/10\n",
            "20000/20000 [==============================] - 192s 10ms/step - loss: 0.5636 - acc: 0.7052 - val_loss: 0.4423 - val_acc: 0.8324\n",
            "Epoch 2/10\n",
            "20000/20000 [==============================] - 188s 9ms/step - loss: 0.3581 - acc: 0.8579 - val_loss: 0.3334 - val_acc: 0.8580\n",
            "Epoch 3/10\n",
            "20000/20000 [==============================] - 190s 10ms/step - loss: 0.3025 - acc: 0.8836 - val_loss: 0.3500 - val_acc: 0.8682\n",
            "Epoch 4/10\n",
            "20000/20000 [==============================] - 180s 9ms/step - loss: 0.2709 - acc: 0.8991 - val_loss: 0.3734 - val_acc: 0.8342\n",
            "Epoch 5/10\n",
            "20000/20000 [==============================] - 173s 9ms/step - loss: 0.2552 - acc: 0.9055 - val_loss: 0.3517 - val_acc: 0.8532\n",
            "Epoch 6/10\n",
            "20000/20000 [==============================] - 181s 9ms/step - loss: 0.2430 - acc: 0.9129 - val_loss: 0.3309 - val_acc: 0.8728\n",
            "Epoch 7/10\n",
            "20000/20000 [==============================] - 169s 8ms/step - loss: 0.2222 - acc: 0.9212 - val_loss: 0.4857 - val_acc: 0.8346\n",
            "Epoch 8/10\n",
            "20000/20000 [==============================] - 179s 9ms/step - loss: 0.2168 - acc: 0.9210 - val_loss: 0.3318 - val_acc: 0.8646\n",
            "Epoch 9/10\n",
            "20000/20000 [==============================] - 170s 8ms/step - loss: 0.2005 - acc: 0.9279 - val_loss: 0.3580 - val_acc: 0.8706\n",
            "Epoch 10/10\n",
            "20000/20000 [==============================] - 168s 8ms/step - loss: 0.1983 - acc: 0.9301 - val_loss: 0.3532 - val_acc: 0.8556\n"
          ],
          "name": "stdout"
        }
      ]
    },
    {
      "metadata": {
        "id": "Zl59iYY45GX-",
        "colab_type": "code",
        "outputId": "5be1349d-85ff-443b-b8b1-daff5cf80fe8",
        "colab": {
          "base_uri": "https://localhost:8080/",
          "height": 34
        }
      },
      "cell_type": "code",
      "source": [
        "scores = model.evaluate(x_test, y_test, verbose=0)\n",
        "print(\"Test accuracy\", scores[1])"
      ],
      "execution_count": 100,
      "outputs": [
        {
          "output_type": "stream",
          "text": [
            "Test accuracy 0.83788\n"
          ],
          "name": "stdout"
        }
      ]
    },
    {
      "metadata": {
        "id": "gUsz_LlKtwd_",
        "colab_type": "code",
        "colab": {
          "base_uri": "https://localhost:8080/",
          "height": 102
        },
        "outputId": "6418b7e5-a831-451a-a317-fcbd9fa1a82c"
      },
      "cell_type": "code",
      "source": [
        "actual = Y_test.astype(str).astype(int)\n",
        "predicted = model.predict(X_test).argmax(axis=1)\n",
        "results = confusion_matrix(actual, predicted) \n",
        "print('Confusion Matrix :')\n",
        "print(results) \n",
        "print('Accuracy Score :',accuracy_score(actual, predicted))"
      ],
      "execution_count": 101,
      "outputs": [
        {
          "output_type": "stream",
          "text": [
            "Confusion Matrix :\n",
            "[[  0  20   0]\n",
            " [  0 141   0]\n",
            " [  0 104   0]]\n",
            "Accuracy Score : 0.5320754716981132\n"
          ],
          "name": "stdout"
        }
      ]
    },
    {
      "metadata": {
        "id": "XFBEQDJH5JDj",
        "colab_type": "code",
        "outputId": "21613c31-a2b4-4595-967d-14b22d20ce46",
        "colab": {
          "base_uri": "https://localhost:8080/",
          "height": 707
        }
      },
      "cell_type": "code",
      "source": [
        "acc = history.history['acc']\n",
        "val_acc = history.history['val_acc']\n",
        "loss = history.history['loss']\n",
        "val_loss = history.history['val_loss']\n",
        " \n",
        "epoch = range(len(acc))\n",
        " \n",
        "plt.plot(epoch, acc, 'b', label='Training acc')\n",
        "plt.plot(epoch, val_acc, 'r', label='Validation acc')\n",
        "plt.title('Training and validation accuracy')\n",
        "plt.legend()\n",
        " \n",
        "plt.figure()\n",
        " \n",
        "plt.plot(epoch, loss, 'b', label='Training loss')\n",
        "plt.plot(epoch, val_loss, 'r', label='Validation loss')\n",
        "plt.title('Training and validation loss')\n",
        "plt.legend()\n",
        " \n",
        "plt.show()"
      ],
      "execution_count": 102,
      "outputs": [
        {
          "output_type": "display_data",
          "data": {
            "image/png": "[encoded data removed]",
            "text/plain": [
              "<Figure size 576x396 with 1 Axes>"
            ]
          },
          "metadata": {
            "tags": []
          }
        },
        {
          "output_type": "display_data",
          "data": {
            "image/png": "[encoded data removed]",
            "text/plain": [
              "<Figure size 576x396 with 1 Axes>"
            ]
          },
          "metadata": {
            "tags": []
          }
        }
      ]
    },
    {
      "metadata": {
        "id": "OPvlx2cQmUW5",
        "colab_type": "code",
        "outputId": "1b14e08d-de98-4244-c4a3-a439d9700931",
        "colab": {
          "base_uri": "https://localhost:8080/",
          "height": 677
        }
      },
      "cell_type": "code",
      "source": [
        "!pip install tpot"
      ],
      "execution_count": 0,
      "outputs": [
        {
          "output_type": "stream",
          "text": [
            "Collecting tpot\n",
            "\u001b[?25l  Downloading https://files.pythonhosted.org/packages/95/35/a6cc358b6bb2749d6dffa1ae2427143211f3092904bbb15d1ad317ebe051/TPOT-0.9.6.tar.gz (892kB)\n",
            "\r\u001b[K    1% |▍                               | 10kB 13.9MB/s eta 0:00:01\r\u001b[K    2% |▊                               | 20kB 4.9MB/s eta 0:00:01\r\u001b[K    3% |█                               | 30kB 7.0MB/s eta 0:00:01\r\u001b[K    4% |█▌                              | 40kB 4.3MB/s eta 0:00:01\r\u001b[K    5% |█▉                              | 51kB 5.2MB/s eta 0:00:01\r\u001b[K    6% |██▏                             | 61kB 6.0MB/s eta 0:00:01\r\u001b[K    8% |██▋                             | 71kB 6.8MB/s eta 0:00:01\r\u001b[K    9% |███                             | 81kB 7.5MB/s eta 0:00:01\r\u001b[K    10% |███▎                            | 92kB 8.2MB/s eta 0:00:01\r\u001b[K    11% |███▊                            | 102kB 6.9MB/s eta 0:00:01\r\u001b[K    12% |████                            | 112kB 7.1MB/s eta 0:00:01\r\u001b[K    13% |████▍                           | 122kB 9.1MB/s eta 0:00:01\r\u001b[K    14% |████▊                           | 133kB 9.0MB/s eta 0:00:01\r\u001b[K    16% |█████▏                          | 143kB 16.4MB/s eta 0:00:01\r\u001b[K    17% |█████▌                          | 153kB 16.8MB/s eta 0:00:01\r\u001b[K    18% |█████▉                          | 163kB 17.0MB/s eta 0:00:01\r\u001b[K    19% |██████▎                         | 174kB 16.9MB/s eta 0:00:01\r\u001b[K    20% |██████▋                         | 184kB 17.3MB/s eta 0:00:01\r\u001b[K    21% |███████                         | 194kB 17.9MB/s eta 0:00:01\r\u001b[K    22% |███████▍                        | 204kB 27.6MB/s eta 0:00:01\r\u001b[K    24% |███████▊                        | 215kB 20.1MB/s eta 0:00:01\r\u001b[K    25% |████████                        | 225kB 20.4MB/s eta 0:00:01\r\u001b[K    26% |████████▌                       | 235kB 20.5MB/s eta 0:00:01\r\u001b[K    27% |████████▉                       | 245kB 20.3MB/s eta 0:00:01\r\u001b[K    28% |█████████▏                      | 256kB 20.3MB/s eta 0:00:01\r\u001b[K    29% |█████████▌                      | 266kB 20.0MB/s eta 0:00:01\r\u001b[K    30% |██████████                      | 276kB 20.6MB/s eta 0:00:01\r\u001b[K    32% |██████████▎                     | 286kB 20.6MB/s eta 0:00:01\r\u001b[K    33% |██████████▋                     | 296kB 20.5MB/s eta 0:00:01\r\u001b[K    34% |███████████                     | 307kB 29.4MB/s eta 0:00:01\r\u001b[K    35% |███████████▍                    | 317kB 52.0MB/s eta 0:00:01\r\u001b[K    36% |███████████▊                    | 327kB 51.6MB/s eta 0:00:01\r\u001b[K    37% |████████████▏                   | 337kB 53.8MB/s eta 0:00:01\r\u001b[K    39% |████████████▌                   | 348kB 50.3MB/s eta 0:00:01\r\u001b[K    40% |████████████▉                   | 358kB 50.5MB/s eta 0:00:01\r\u001b[K    41% |█████████████▎                  | 368kB 53.4MB/s eta 0:00:01\r\u001b[K    42% |█████████████▋                  | 378kB 53.2MB/s eta 0:00:01\r\u001b[K    43% |██████████████                  | 389kB 54.5MB/s eta 0:00:01\r\u001b[K    44% |██████████████▎                 | 399kB 24.9MB/s eta 0:00:01\r\u001b[K    45% |██████████████▊                 | 409kB 23.5MB/s eta 0:00:01\r\u001b[K    47% |███████████████                 | 419kB 23.6MB/s eta 0:00:01\r\u001b[K    48% |███████████████▍                | 430kB 23.7MB/s eta 0:00:01\r\u001b[K    49% |███████████████▉                | 440kB 23.6MB/s eta 0:00:01\r\u001b[K    50% |████████████████▏               | 450kB 22.7MB/s eta 0:00:01\r\u001b[K    51% |████████████████▌               | 460kB 22.5MB/s eta 0:00:01\r\u001b[K    52% |█████████████████               | 471kB 22.7MB/s eta 0:00:01\r\u001b[K    53% |█████████████████▎              | 481kB 22.6MB/s eta 0:00:01\r\u001b[K    55% |█████████████████▋              | 491kB 22.2MB/s eta 0:00:01\r\u001b[K    56% |██████████████████              | 501kB 43.4MB/s eta 0:00:01\r\u001b[K    57% |██████████████████▍             | 512kB 39.1MB/s eta 0:00:01\r\u001b[K    58% |██████████████████▊             | 522kB 38.8MB/s eta 0:00:01\r\u001b[K    59% |███████████████████             | 532kB 39.0MB/s eta 0:00:01\r\u001b[K    60% |███████████████████▌            | 542kB 38.6MB/s eta 0:00:01\r\u001b[K    61% |███████████████████▉            | 552kB 45.0MB/s eta 0:00:01\r\u001b[K    63% |████████████████████▏           | 563kB 45.8MB/s eta 0:00:01\r\u001b[K    64% |████████████████████▋           | 573kB 45.6MB/s eta 0:00:01\r\u001b[K    65% |█████████████████████           | 583kB 45.3MB/s eta 0:00:01\r\u001b[K    66% |█████████████████████▎          | 593kB 46.4MB/s eta 0:00:01\r\u001b[K    67% |█████████████████████▊          | 604kB 46.2MB/s eta 0:00:01\r\u001b[K    68% |██████████████████████          | 614kB 58.4MB/s eta 0:00:01\r\u001b[K    70% |██████████████████████▍         | 624kB 55.5MB/s eta 0:00:01\r\u001b[K    71% |██████████████████████▊         | 634kB 53.9MB/s eta 0:00:01\r\u001b[K    72% |███████████████████████▏        | 645kB 53.1MB/s eta 0:00:01\r\u001b[K    73% |███████████████████████▌        | 655kB 51.9MB/s eta 0:00:01\r\u001b[K    74% |███████████████████████▉        | 665kB 44.7MB/s eta 0:00:01\r\u001b[K    75% |████████████████████████▎       | 675kB 44.2MB/s eta 0:00:01\r\u001b[K    76% |████████████████████████▋       | 686kB 44.9MB/s eta 0:00:01\r\u001b[K    78% |█████████████████████████       | 696kB 44.8MB/s eta 0:00:01\r\u001b[K    79% |█████████████████████████▍      | 706kB 44.7MB/s eta 0:00:01\r\u001b[K    80% |█████████████████████████▊      | 716kB 45.2MB/s eta 0:00:01\r\u001b[K    81% |██████████████████████████      | 727kB 47.0MB/s eta 0:00:01\r\u001b[K    82% |██████████████████████████▌     | 737kB 48.2MB/s eta 0:00:01\r\u001b[K    83% |██████████████████████████▉     | 747kB 49.3MB/s eta 0:00:01\r\u001b[K    84% |███████████████████████████▏    | 757kB 49.7MB/s eta 0:00:01\r\u001b[K    86% |███████████████████████████▌    | 768kB 58.8MB/s eta 0:00:01\r\u001b[K    87% |████████████████████████████    | 778kB 59.5MB/s eta 0:00:01\r\u001b[K    88% |████████████████████████████▎   | 788kB 58.5MB/s eta 0:00:01\r\u001b[K    89% |████████████████████████████▋   | 798kB 59.3MB/s eta 0:00:01\r\u001b[K    90% |█████████████████████████████   | 808kB 59.5MB/s eta 0:00:01\r\u001b[K    91% |█████████████████████████████▍  | 819kB 59.4MB/s eta 0:00:01\r\u001b[K    92% |█████████████████████████████▊  | 829kB 61.5MB/s eta 0:00:01\r\u001b[K    94% |██████████████████████████████▏ | 839kB 61.6MB/s eta 0:00:01\r\u001b[K    95% |██████████████████████████████▌ | 849kB 61.7MB/s eta 0:00:01\r\u001b[K    96% |██████████████████████████████▉ | 860kB 51.3MB/s eta 0:00:01\r\u001b[K    97% |███████████████████████████████▏| 870kB 50.6MB/s eta 0:00:01\r\u001b[K    98% |███████████████████████████████▋| 880kB 51.0MB/s eta 0:00:01\r\u001b[K    99% |████████████████████████████████| 890kB 51.0MB/s eta 0:00:01\r\u001b[K    100% |████████████████████████████████| 901kB 18.5MB/s \n",
            "\u001b[?25hRequirement already satisfied: numpy>=1.12.1 in /usr/local/lib/python3.6/dist-packages (from tpot) (1.14.6)\n",
            "Requirement already satisfied: scipy>=0.19.0 in /usr/local/lib/python3.6/dist-packages (from tpot) (1.1.0)\n",
            "Requirement already satisfied: scikit-learn>=0.18.1 in /usr/local/lib/python3.6/dist-packages (from tpot) (0.20.3)\n",
            "Collecting deap>=1.0 (from tpot)\n",
            "\u001b[?25l  Downloading https://files.pythonhosted.org/packages/af/29/e7f2ecbe02997b16a768baed076f5fc4781d7057cd5d9adf7c94027845ba/deap-1.2.2.tar.gz (936kB)\n",
            "\u001b[K    100% |████████████████████████████████| 942kB 19.6MB/s \n",
            "\u001b[?25hCollecting update_checker>=0.16 (from tpot)\n",
            "  Downloading https://files.pythonhosted.org/packages/17/c9/ab11855af164d03be0ff4fddd4c46a5bd44799a9ecc1770e01a669c21168/update_checker-0.16-py2.py3-none-any.whl\n",
            "Requirement already satisfied: tqdm>=4.26.0 in /usr/local/lib/python3.6/dist-packages (from tpot) (4.28.1)\n",
            "Collecting stopit>=1.1.1 (from tpot)\n",
            "  Downloading https://files.pythonhosted.org/packages/35/58/e8bb0b0fb05baf07bbac1450c447d753da65f9701f551dca79823ce15d50/stopit-1.1.2.tar.gz\n",
            "Requirement already satisfied: pandas>=0.20.2 in /usr/local/lib/python3.6/dist-packages (from tpot) (0.22.0)\n",
            "Requirement already satisfied: requests>=2.3.0 in /usr/local/lib/python3.6/dist-packages (from update_checker>=0.16->tpot) (2.18.4)\n",
            "Requirement already satisfied: python-dateutil>=2 in /usr/local/lib/python3.6/dist-packages (from pandas>=0.20.2->tpot) (2.5.3)\n",
            "Requirement already satisfied: pytz>=2011k in /usr/local/lib/python3.6/dist-packages (from pandas>=0.20.2->tpot) (2018.9)\n",
            "Requirement already satisfied: urllib3<1.23,>=1.21.1 in /usr/local/lib/python3.6/dist-packages (from requests>=2.3.0->update_checker>=0.16->tpot) (1.22)\n",
            "Requirement already satisfied: certifi>=2017.4.17 in /usr/local/lib/python3.6/dist-packages (from requests>=2.3.0->update_checker>=0.16->tpot) (2019.3.9)\n",
            "Requirement already satisfied: chardet<3.1.0,>=3.0.2 in /usr/local/lib/python3.6/dist-packages (from requests>=2.3.0->update_checker>=0.16->tpot) (3.0.4)\n",
            "Requirement already satisfied: idna<2.7,>=2.5 in /usr/local/lib/python3.6/dist-packages (from requests>=2.3.0->update_checker>=0.16->tpot) (2.6)\n",
            "Requirement already satisfied: six>=1.5 in /usr/local/lib/python3.6/dist-packages (from python-dateutil>=2->pandas>=0.20.2->tpot) (1.11.0)\n",
            "Building wheels for collected packages: tpot, deap, stopit\n",
            "  Building wheel for tpot (setup.py) ... \u001b[?25ldone\n",
            "\u001b[?25h  Stored in directory: /root/.cache/pip/wheels/86/5c/dd/c7673fbaccb901ec1a4eb79017fa5b65766805d2a98f954b9a\n",
            "  Building wheel for deap (setup.py) ... \u001b[?25ldone\n",
            "\u001b[?25h  Stored in directory: /root/.cache/pip/wheels/22/ea/bf/dc7c8a2262025a0ab5da9ef02282c198be88902791ca0c6658\n",
            "  Building wheel for stopit (setup.py) ... \u001b[?25ldone\n",
            "\u001b[?25h  Stored in directory: /root/.cache/pip/wheels/3c/85/2b/2580190404636bfc63e8de3dff629c03bb795021e1983a6cc7\n",
            "Successfully built tpot deap stopit\n",
            "Installing collected packages: deap, update-checker, stopit, tpot\n",
            "Successfully installed deap-1.2.2 stopit-1.1.2 tpot-0.9.6 update-checker-0.16\n"
          ],
          "name": "stdout"
        }
      ]
    },
    {
      "metadata": {
        "id": "aKknlI03mXN5",
        "colab_type": "code",
        "colab": {}
      },
      "cell_type": "code",
      "source": [
        "from tpot import TPOTClassifier\n",
        "pipeline_optimizer = TPOTClassifier()"
      ],
      "execution_count": 0,
      "outputs": []
    },
    {
      "metadata": {
        "id": "k4ivLa8tmbld",
        "colab_type": "code",
        "colab": {}
      },
      "cell_type": "code",
      "source": [
        "pipeline_optimizer = TPOTClassifier(generations=5, population_size=20, cv=5,\n",
        "                                    random_state=42, verbosity=2)"
      ],
      "execution_count": 0,
      "outputs": []
    },
    {
      "metadata": {
        "id": "XHdrBHTSmd4l",
        "colab_type": "code",
        "outputId": "208e8ffd-5d42-48a6-978e-2dcd74152ee1",
        "colab": {
          "base_uri": "https://localhost:8080/",
          "height": 354
        }
      },
      "cell_type": "code",
      "source": [
        "pipeline_optimizer.fit(x_train, y_train)"
      ],
      "execution_count": 0,
      "outputs": [
        {
          "output_type": "display_data",
          "data": {
            "application/vnd.jupyter.widget-view+json": {
              "model_id": "ceb7247b5f884af9bb7ad0dca55929dc",
              "version_minor": 0,
              "version_major": 2
            },
            "text/plain": [
              "HBox(children=(IntProgress(value=0, description='Optimization Progress', max=120, style=ProgressStyle(descript…"
            ]
          },
          "metadata": {
            "tags": []
          }
        },
        {
          "output_type": "stream",
          "text": [
            "\r\n",
            "\r\n",
            "TPOT closed during evaluation in one generation.\n",
            "WARNING: TPOT may not provide a good pipeline if TPOT is stopped/interrupted in a early generation.\n",
            "\r\n",
            "\r\n",
            "TPOT closed prematurely. Will use the current best pipeline.\n",
            "\r\n",
            "Best pipeline: XGBClassifier(input_matrix, learning_rate=0.01, max_depth=7, min_child_weight=15, n_estimators=100, nthread=1, subsample=0.6500000000000001)\n"
          ],
          "name": "stdout"
        },
        {
          "output_type": "execute_result",
          "data": {
            "text/plain": [
              "TPOTClassifier(config_dict=None, crossover_rate=0.1, cv=5,\n",
              "        disable_update_check=False, early_stop=None, generations=5,\n",
              "        max_eval_time_mins=5, max_time_mins=None, memory=None,\n",
              "        mutation_rate=0.9, n_jobs=1, offspring_size=None,\n",
              "        periodic_checkpoint_folder=None, population_size=20,\n",
              "        random_state=42, scoring=None, subsample=1.0, use_dask=False,\n",
              "        verbosity=2, warm_start=False)"
            ]
          },
          "metadata": {
            "tags": []
          },
          "execution_count": 41
        }
      ]
    },
    {
      "metadata": {
        "id": "O4vQkcs_mf4M",
        "colab_type": "code",
        "outputId": "7fffb95b-e9c0-488a-9d7e-141140e03fc2",
        "colab": {
          "base_uri": "https://localhost:8080/",
          "height": 34
        }
      },
      "cell_type": "code",
      "source": [
        "print(pipeline_optimizer.score(X_test, Y_test))"
      ],
      "execution_count": 0,
      "outputs": [
        {
          "output_type": "stream",
          "text": [
            "0.864406779661017\n"
          ],
          "name": "stdout"
        }
      ]
    },
    {
      "metadata": {
        "id": "6B2FQop1lCwf",
        "colab_type": "code",
        "colab": {}
      },
      "cell_type": "code",
      "source": [
        ""
      ],
      "execution_count": 0,
      "outputs": []
    }
  ]
}