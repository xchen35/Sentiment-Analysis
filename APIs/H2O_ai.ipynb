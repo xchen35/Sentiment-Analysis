{
  "nbformat": 4,
  "nbformat_minor": 0,
  "metadata": {
    "colab": {
      "name": "H2O_ai.ipynb",
      "version": "0.3.2",
      "provenance": [],
      "include_colab_link": true
    },
    "kernelspec": {
      "name": "python3",
      "display_name": "Python 3"
    },
    "accelerator": "GPU"
  },
  "cells": [
    {
      "cell_type": "markdown",
      "metadata": {
        "id": "view-in-github",
        "colab_type": "text"
      },
      "source": [
        "<a href=\"https://colab.research.google.com/github/ll1195831146/Infor7374-AI/blob/master/Assignment3/H2O_ai.ipynb\" target=\"_parent\"><img src=\"https://colab.research.google.com/assets/colab-badge.svg\" alt=\"Open In Colab\"/></a>"
      ]
    },
    {
      "metadata": {
        "id": "A6BjVG5G791k",
        "colab_type": "code",
        "colab": {
          "base_uri": "https://localhost:8080/",
          "height": 51
        },
        "outputId": "ed3c4167-7198-44cc-b57f-0e059ef8f9f0"
      },
      "cell_type": "code",
      "source": [
        "import keras\n",
        "import itertools\n",
        "import os\n",
        "\n",
        "%matplotlib inline\n",
        "import matplotlib.pyplot as plt\n",
        "import numpy as np\n",
        "import pandas as pd\n",
        "import tensorflow as tf\n",
        "import json\n",
        "\n",
        "from sklearn.preprocessing import LabelBinarizer, LabelEncoder\n",
        "from sklearn.metrics import confusion_matrix\n",
        "from keras.models import Sequential\n",
        "from keras.layers import Dense, Activation, Dropout\n",
        "from keras.preprocessing import text, sequence\n",
        "from keras import utils\n",
        "\n",
        "from __future__ import absolute_import, division, print_function\n",
        "keras.__version__"
      ],
      "execution_count": 1,
      "outputs": [
        {
          "output_type": "stream",
          "text": [
            "Using TensorFlow backend.\n"
          ],
          "name": "stderr"
        },
        {
          "output_type": "execute_result",
          "data": {
            "text/plain": [
              "'2.2.4'"
            ]
          },
          "metadata": {
            "tags": []
          },
          "execution_count": 1
        }
      ]
    },
    {
      "metadata": {
        "id": "LfBQ-xot8VgV",
        "colab_type": "code",
        "colab": {
          "base_uri": "https://localhost:8080/",
          "height": 139
        },
        "outputId": "ef559608-50f9-4a5b-ae9c-3cf0016bdf6c"
      },
      "cell_type": "code",
      "source": [
        "from google.colab import drive\n",
        "drive.mount('/content/drive')"
      ],
      "execution_count": 2,
      "outputs": [
        {
          "output_type": "stream",
          "text": [
            "Go to this URL in a browser: https://accounts.google.com/o/oauth2/auth?client_id=947318989803-6bn6qk8qdgf4n4g3pfee6491hc0brc4i.apps.googleusercontent.com&redirect_uri=urn%3Aietf%3Awg%3Aoauth%3A2.0%3Aoob&scope=email%20https%3A%2F%2Fwww.googleapis.com%2Fauth%2Fdocs.test%20https%3A%2F%2Fwww.googleapis.com%2Fauth%2Fdrive%20https%3A%2F%2Fwww.googleapis.com%2Fauth%2Fdrive.photos.readonly%20https%3A%2F%2Fwww.googleapis.com%2Fauth%2Fpeopleapi.readonly&response_type=code\n",
            "\n",
            "Enter your authorization code:\n",
            "··········\n",
            "Mounted at /content/drive\n"
          ],
          "name": "stdout"
        }
      ]
    },
    {
      "metadata": {
        "id": "KoqzTaw48bHy",
        "colab_type": "code",
        "colab": {
          "base_uri": "https://localhost:8080/",
          "height": 34
        },
        "outputId": "37fef66c-6b4e-4557-9991-63dac10a97ac"
      },
      "cell_type": "code",
      "source": [
        "os.chdir(os.path.join(os.getcwd(),'drive/My Drive'))\n",
        "print(os.getcwd())"
      ],
      "execution_count": 3,
      "outputs": [
        {
          "output_type": "stream",
          "text": [
            "/content/drive/My Drive\n"
          ],
          "name": "stdout"
        }
      ]
    },
    {
      "metadata": {
        "id": "wXBQ7_KK8qcy",
        "colab_type": "code",
        "colab": {}
      },
      "cell_type": "code",
      "source": [
        "with open('Final_train.json') as train_f:\n",
        "   train_data = json.load(train_f)\n",
        "with open('Final_test.json') as test_f:\n",
        "   test_data = json.load(test_f)"
      ],
      "execution_count": 0,
      "outputs": []
    },
    {
      "metadata": {
        "id": "2CVboYv39AIk",
        "colab_type": "code",
        "colab": {}
      },
      "cell_type": "code",
      "source": [
        "train_data = pd.DataFrame(train_data)\n",
        "train_data['sentiment'] = train_data['sentiment'].str.lower()\n",
        "train_data = train_data[train_data.sentiment != 'neutra;']\n",
        "train_data = train_data[train_data.sentiment != 'postive']\n",
        "test_data = pd.DataFrame(test_data)\n",
        "test_data['sentiment'] = test_data['sentiment'].str.lower()\n",
        "test_data = test_data[test_data.sentiment != 'neutra;']\n",
        "test_data = test_data[test_data.sentiment != 'postive']"
      ],
      "execution_count": 0,
      "outputs": []
    },
    {
      "metadata": {
        "id": "HnJnHqZzB66t",
        "colab_type": "code",
        "colab": {}
      },
      "cell_type": "code",
      "source": [
        "text_train = train_data['text']\n",
        "label_train = train_data['sentiment']\n",
        "text_test = test_data['text']\n",
        "label_test = test_data['sentiment']"
      ],
      "execution_count": 0,
      "outputs": []
    },
    {
      "metadata": {
        "id": "mH7G0fXv9krI",
        "colab_type": "code",
        "colab": {
          "base_uri": "https://localhost:8080/",
          "height": 153
        },
        "outputId": "f36a68e4-da0d-4c1c-fc20-446e0afecbf4"
      },
      "cell_type": "code",
      "source": [
        "from sklearn.feature_extraction.text import CountVectorizer\n",
        "vect = CountVectorizer()\n",
        "x_train = vect.fit(text_train).transform(text_train)\n",
        "x_test = vect.transform(text_test)\n",
        "\n",
        "print(\"Vocabulary size: {}\".format(len(vect.vocabulary_)))\n",
        "print(\"X_train:\\n{}\".format(repr(x_train)))\n",
        "print(\"X_test: \\n{}\".format(repr(x_test)))\n",
        "\n",
        "feature_names = vect.get_feature_names()\n",
        "print(\"Number of features: {}\".format(len(feature_names)))"
      ],
      "execution_count": 7,
      "outputs": [
        {
          "output_type": "stream",
          "text": [
            "Vocabulary size: 4571\n",
            "X_train:\n",
            "<1048x4571 sparse matrix of type '<class 'numpy.int64'>'\n",
            "\twith 43129 stored elements in Compressed Sparse Row format>\n",
            "X_test: \n",
            "<264x4571 sparse matrix of type '<class 'numpy.int64'>'\n",
            "\twith 12084 stored elements in Compressed Sparse Row format>\n",
            "Number of features: 4571\n"
          ],
          "name": "stdout"
        }
      ]
    },
    {
      "metadata": {
        "id": "-l4ZzFLZEJFd",
        "colab_type": "code",
        "colab": {}
      },
      "cell_type": "code",
      "source": [
        "from sklearn.preprocessing import LabelBinarizer, LabelEncoder\n",
        "# Use sklearn utility to convert label strings to numbered index\n",
        "encoder = LabelEncoder()\n",
        "encoder.fit(label_train)\n",
        "y_train = encoder.transform(label_train)\n",
        "y_test = encoder.transform(label_test)"
      ],
      "execution_count": 0,
      "outputs": []
    },
    {
      "metadata": {
        "id": "4_fvblDcErO9",
        "colab_type": "code",
        "colab": {
          "base_uri": "https://localhost:8080/",
          "height": 528
        },
        "outputId": "786bf357-325a-4536-f982-b10318b7b12c"
      },
      "cell_type": "code",
      "source": [
        "import h2o\n",
        "h2o.init()\n",
        "from h2o.estimators.word2vec import H2OWord2vecEstimator\n",
        "from h2o.estimators.gbm import H2OGradientBoostingEstimator"
      ],
      "execution_count": 13,
      "outputs": [
        {
          "output_type": "stream",
          "text": [
            "Checking whether there is an H2O instance running at http://localhost:54321..... not found.\n",
            "Attempting to start a local H2O server...\n",
            "  Java Version: openjdk version \"10.0.2\" 2018-07-17; OpenJDK Runtime Environment (build 10.0.2+13-Ubuntu-1ubuntu0.18.04.4); OpenJDK 64-Bit Server VM (build 10.0.2+13-Ubuntu-1ubuntu0.18.04.4, mixed mode)\n",
            "  Starting server from /usr/local/lib/python3.6/dist-packages/h2o/backend/bin/h2o.jar\n",
            "  Ice root: /tmp/tmpfx0ow5b0\n",
            "  JVM stdout: /tmp/tmpfx0ow5b0/h2o_unknownUser_started_from_python.out\n",
            "  JVM stderr: /tmp/tmpfx0ow5b0/h2o_unknownUser_started_from_python.err\n",
            "  Server is running at http://127.0.0.1:54321\n",
            "Connecting to H2O server at http://127.0.0.1:54321... successful.\n"
          ],
          "name": "stdout"
        },
        {
          "output_type": "display_data",
          "data": {
            "text/html": [
              "<div style=\"overflow:auto\"><table style=\"width:50%\"><tr><td>H2O cluster uptime:</td>\n",
              "<td>02 secs</td></tr>\n",
              "<tr><td>H2O cluster timezone:</td>\n",
              "<td>Etc/UTC</td></tr>\n",
              "<tr><td>H2O data parsing timezone:</td>\n",
              "<td>UTC</td></tr>\n",
              "<tr><td>H2O cluster version:</td>\n",
              "<td>3.22.1.6</td></tr>\n",
              "<tr><td>H2O cluster version age:</td>\n",
              "<td>7 days, 1 hour and 29 minutes </td></tr>\n",
              "<tr><td>H2O cluster name:</td>\n",
              "<td>H2O_from_python_unknownUser_0lfxxl</td></tr>\n",
              "<tr><td>H2O cluster total nodes:</td>\n",
              "<td>1</td></tr>\n",
              "<tr><td>H2O cluster free memory:</td>\n",
              "<td>2.938 Gb</td></tr>\n",
              "<tr><td>H2O cluster total cores:</td>\n",
              "<td>2</td></tr>\n",
              "<tr><td>H2O cluster allowed cores:</td>\n",
              "<td>2</td></tr>\n",
              "<tr><td>H2O cluster status:</td>\n",
              "<td>accepting new members, healthy</td></tr>\n",
              "<tr><td>H2O connection url:</td>\n",
              "<td>http://127.0.0.1:54321</td></tr>\n",
              "<tr><td>H2O connection proxy:</td>\n",
              "<td>None</td></tr>\n",
              "<tr><td>H2O internal security:</td>\n",
              "<td>False</td></tr>\n",
              "<tr><td>H2O API Extensions:</td>\n",
              "<td>Amazon S3, XGBoost, Algos, AutoML, Core V3, Core V4</td></tr>\n",
              "<tr><td>Python version:</td>\n",
              "<td>3.6.7 final</td></tr></table></div>"
            ],
            "text/plain": [
              "--------------------------  ---------------------------------------------------\n",
              "H2O cluster uptime:         02 secs\n",
              "H2O cluster timezone:       Etc/UTC\n",
              "H2O data parsing timezone:  UTC\n",
              "H2O cluster version:        3.22.1.6\n",
              "H2O cluster version age:    7 days, 1 hour and 29 minutes\n",
              "H2O cluster name:           H2O_from_python_unknownUser_0lfxxl\n",
              "H2O cluster total nodes:    1\n",
              "H2O cluster free memory:    2.938 Gb\n",
              "H2O cluster total cores:    2\n",
              "H2O cluster allowed cores:  2\n",
              "H2O cluster status:         accepting new members, healthy\n",
              "H2O connection url:         http://127.0.0.1:54321\n",
              "H2O connection proxy:\n",
              "H2O internal security:      False\n",
              "H2O API Extensions:         Amazon S3, XGBoost, Algos, AutoML, Core V3, Core V4\n",
              "Python version:             3.6.7 final\n",
              "--------------------------  ---------------------------------------------------"
            ]
          },
          "metadata": {
            "tags": []
          }
        }
      ]
    },
    {
      "metadata": {
        "id": "2RVoZyXXGz6j",
        "colab_type": "code",
        "colab": {
          "base_uri": "https://localhost:8080/",
          "height": 34
        },
        "outputId": "8956c0cf-70ce-45b5-fb79-afcff6b19a51"
      },
      "cell_type": "code",
      "source": [
        "reviews = h2o.import_file(\"Complete.csv\")"
      ],
      "execution_count": 18,
      "outputs": [
        {
          "output_type": "stream",
          "text": [
            "Parse progress: |█████████████████████████████████████████████████████████| 100%\n"
          ],
          "name": "stdout"
        }
      ]
    },
    {
      "metadata": {
        "id": "6au3yZSVISpK",
        "colab_type": "code",
        "colab": {
          "base_uri": "https://localhost:8080/",
          "height": 386
        },
        "outputId": "273488f5-873e-4cb7-ede5-0296d57fdccc"
      },
      "cell_type": "code",
      "source": [
        "reviews.head()"
      ],
      "execution_count": 19,
      "outputs": [
        {
          "output_type": "display_data",
          "data": {
            "text/html": [
              "<table>\n",
              "<thead>\n",
              "<tr><th style=\"text-align: right;\">  C1</th><th>sentiment  </th><th>text                                                                                                                                                                                                                                                                                                                                                                                                                                       </th></tr>\n",
              "</thead>\n",
              "<tbody>\n",
              "<tr><td style=\"text-align: right;\">   0</td><td>positive   </td><td>Thank you, Ellen. We have a strong 2018, with total revenues of $136.8 billion, up 23% over 2017, reflecting the benefit of our ongoing investments to deliver exceptional experiences for users and compelling returns for our advertisers, partners and enterprise customers.                                                                                                                                                            </td></tr>\n",
              "<tr><td style=\"text-align: right;\">   1</td><td>positive   </td><td>Stock-based compensation totaled $2.3 billion. Headcount at the end of the quarter was 98,771, up 4,399 from last quarter. Consistent with prior quarters, the majority of new hires were engineers and product managers. In terms of product areas, the most sizable head count increases were in Cloud for both technical and sales roles.                                                                                               </td></tr>\n",
              "<tr><td style=\"text-align: right;\">  10</td><td>negative   </td><td>For the full-year 2018, Other Bets revenues were $595 million, up 25% versus 2017 primarily generated by Fiber and Verily. Operating loss for Other Bets was $3.4 billion for the full-year 2018 versus an operating loss of $2.7 billion in 2017. Other Bets accrued CapEx was $181 million, down from $493 million in 2017 primarily reflecting investments in Fiber.                                                                    </td></tr>\n",
              "<tr><td style=\"text-align: right;\"> 100</td><td>neutral    </td><td>Great. Thank you. I just wanted to follow up on India, just bigger picture, Brian, do the new policies change your view at all of the attractiveness or the potential of operating in India and how do you think about your investment strategy there in the near term? And then also just hoping you could talk about some of the impact in the US and UK from free shipping during the fourth quarter holidays?                          </td></tr>\n",
              "<tr><td style=\"text-align: right;\">1000</td><td>neutral    </td><td>Operator                                                                                                                                                                                                                                                                                                                                                                                                                                   </td></tr>\n",
              "<tr><td style=\"text-align: right;\">1001</td><td>neutral    </td><td>At this time, there are no further questions. Please continue with any closing remarks.                                                                                                                                                                                                                                                                                                                                                    </td></tr>\n",
              "<tr><td style=\"text-align: right;\">1002</td><td>neutral    </td><td>Stephen Scherr                                                                                                                                                                                                                                                                                                                                                                                                                             </td></tr>\n",
              "<tr><td style=\"text-align: right;\">1003</td><td>positive   </td><td>Okay. Since there are no more questions, we would like to take a moment to thank everybody for joining the call. On behalf of our senior management team, we hope to see many of you in the coming months. If any additional questions arise in the meantime, please don't hesitate to reach out to Heather. Otherwise, enjoy the rest of your day, and we look forward to speaking with you on our first quarter call in April. Thank you.</td></tr>\n",
              "<tr><td style=\"text-align: right;\">1004</td><td>neutral    </td><td>Operator                                                                                                                                                                                                                                                                                                                                                                                                                                   </td></tr>\n",
              "<tr><td style=\"text-align: right;\">1005</td><td>neutral    </td><td>Ms. Miner, you may begin your conference.                                                                                                                                                                                                                                                                                                                                                                                                  </td></tr>\n",
              "</tbody>\n",
              "</table>"
            ]
          },
          "metadata": {
            "tags": []
          }
        },
        {
          "output_type": "execute_result",
          "data": {
            "text/plain": [
              ""
            ]
          },
          "metadata": {
            "tags": []
          },
          "execution_count": 19
        }
      ]
    },
    {
      "metadata": {
        "id": "xn9CL-ByIiLb",
        "colab_type": "text"
      },
      "cell_type": "markdown",
      "source": [
        "**Train the Model**"
      ]
    },
    {
      "metadata": {
        "id": "jJxsHGhiIYp9",
        "colab_type": "code",
        "colab": {}
      },
      "cell_type": "code",
      "source": [
        "from h2o.automl import H2OAutoML"
      ],
      "execution_count": 0,
      "outputs": []
    },
    {
      "metadata": {
        "id": "lSnBqoOhL7fs",
        "colab_type": "code",
        "colab": {}
      },
      "cell_type": "code",
      "source": [
        "X = ['text']\n",
        "y = \"sentiment\""
      ],
      "execution_count": 0,
      "outputs": []
    },
    {
      "metadata": {
        "id": "HhBTZ_RBMSuR",
        "colab_type": "code",
        "colab": {}
      },
      "cell_type": "code",
      "source": [
        "reviews[X] = reviews[X].asfactor()\n",
        "reviews[y] = reviews[y].asfactor()"
      ],
      "execution_count": 0,
      "outputs": []
    },
    {
      "metadata": {
        "id": "eVq6Q1wrMqGm",
        "colab_type": "code",
        "colab": {
          "base_uri": "https://localhost:8080/",
          "height": 34
        },
        "outputId": "d451d380-6788-44ae-d316-7e109df1ce9b"
      },
      "cell_type": "code",
      "source": [
        "aml = H2OAutoML(max_models=20, seed=1)\n",
        "aml.train(x=X, y=y, training_frame=reviews)"
      ],
      "execution_count": 32,
      "outputs": [
        {
          "output_type": "stream",
          "text": [
            "AutoML progress: |████████████████████████████████████████████████████████| 100%\n"
          ],
          "name": "stdout"
        }
      ]
    },
    {
      "metadata": {
        "id": "YGaTx_Q-Mq7j",
        "colab_type": "code",
        "colab": {
          "base_uri": "https://localhost:8080/",
          "height": 502
        },
        "outputId": "6a5e6f5d-cdc4-43dd-b5ce-c9f3886f86ce"
      },
      "cell_type": "code",
      "source": [
        "# View the AutoML Leaderboard\n",
        "lb = aml.leaderboard\n",
        "lb.head(rows=lb.nrows)  # Print all rows instead of default (10 rows)"
      ],
      "execution_count": 33,
      "outputs": [
        {
          "output_type": "display_data",
          "data": {
            "text/html": [
              "<table>\n",
              "<thead>\n",
              "<tr><th>model_id                                           </th><th style=\"text-align: right;\">  mean_per_class_error</th><th style=\"text-align: right;\">  logloss</th><th style=\"text-align: right;\">    rmse</th><th style=\"text-align: right;\">     mse</th></tr>\n",
              "</thead>\n",
              "<tbody>\n",
              "<tr><td>GBM_3_AutoML_20190320_222459                       </td><td style=\"text-align: right;\">              0.575257</td><td style=\"text-align: right;\"> 1.00263 </td><td style=\"text-align: right;\">0.614912</td><td style=\"text-align: right;\">0.378116</td></tr>\n",
              "<tr><td>StackedEnsemble_BestOfFamily_AutoML_20190320_222459</td><td style=\"text-align: right;\">              0.576643</td><td style=\"text-align: right;\"> 0.891261</td><td style=\"text-align: right;\">0.570582</td><td style=\"text-align: right;\">0.325564</td></tr>\n",
              "<tr><td>GBM_4_AutoML_20190320_222459                       </td><td style=\"text-align: right;\">              0.580169</td><td style=\"text-align: right;\"> 1.00139 </td><td style=\"text-align: right;\">0.614542</td><td style=\"text-align: right;\">0.377662</td></tr>\n",
              "<tr><td>StackedEnsemble_AllModels_AutoML_20190320_222459   </td><td style=\"text-align: right;\">              0.580867</td><td style=\"text-align: right;\"> 0.898538</td><td style=\"text-align: right;\">0.573022</td><td style=\"text-align: right;\">0.328355</td></tr>\n",
              "<tr><td>GBM_2_AutoML_20190320_222459                       </td><td style=\"text-align: right;\">              0.585912</td><td style=\"text-align: right;\"> 1.00351 </td><td style=\"text-align: right;\">0.615014</td><td style=\"text-align: right;\">0.378243</td></tr>\n",
              "<tr><td>DRF_1_AutoML_20190320_222459                       </td><td style=\"text-align: right;\">              0.586274</td><td style=\"text-align: right;\">25.4746  </td><td style=\"text-align: right;\">0.861694</td><td style=\"text-align: right;\">0.742517</td></tr>\n",
              "<tr><td>GBM_1_AutoML_20190320_222459                       </td><td style=\"text-align: right;\">              0.591442</td><td style=\"text-align: right;\"> 1.00806 </td><td style=\"text-align: right;\">0.616403</td><td style=\"text-align: right;\">0.379952</td></tr>\n",
              "<tr><td>XRT_1_AutoML_20190320_222459                       </td><td style=\"text-align: right;\">              0.600998</td><td style=\"text-align: right;\"> 6.26772 </td><td style=\"text-align: right;\">0.604651</td><td style=\"text-align: right;\">0.365602</td></tr>\n",
              "<tr><td>DeepLearning_grid_1_AutoML_20190320_222459_model_1 </td><td style=\"text-align: right;\">              0.610937</td><td style=\"text-align: right;\"> 1.27363 </td><td style=\"text-align: right;\">0.632715</td><td style=\"text-align: right;\">0.400328</td></tr>\n",
              "<tr><td>GBM_grid_1_AutoML_20190320_222459_model_2          </td><td style=\"text-align: right;\">              0.615114</td><td style=\"text-align: right;\"> 1.39495 </td><td style=\"text-align: right;\">0.607832</td><td style=\"text-align: right;\">0.36946 </td></tr>\n",
              "<tr><td>GBM_grid_1_AutoML_20190320_222459_model_1          </td><td style=\"text-align: right;\">              0.615954</td><td style=\"text-align: right;\"> 1.08246 </td><td style=\"text-align: right;\">0.634845</td><td style=\"text-align: right;\">0.403029</td></tr>\n",
              "<tr><td>GBM_5_AutoML_20190320_222459                       </td><td style=\"text-align: right;\">              0.644038</td><td style=\"text-align: right;\"> 0.977829</td><td style=\"text-align: right;\">0.617127</td><td style=\"text-align: right;\">0.380846</td></tr>\n",
              "<tr><td>DeepLearning_1_AutoML_20190320_222459              </td><td style=\"text-align: right;\">              0.650065</td><td style=\"text-align: right;\"> 1.04893 </td><td style=\"text-align: right;\">0.612698</td><td style=\"text-align: right;\">0.375399</td></tr>\n",
              "<tr><td>XGBoost_grid_1_AutoML_20190320_222459_model_2      </td><td style=\"text-align: right;\">              0.662276</td><td style=\"text-align: right;\"> 0.920755</td><td style=\"text-align: right;\">0.590503</td><td style=\"text-align: right;\">0.348694</td></tr>\n",
              "<tr><td>XGBoost_1_AutoML_20190320_222459                   </td><td style=\"text-align: right;\">              0.666667</td><td style=\"text-align: right;\"> 0.937698</td><td style=\"text-align: right;\">0.599206</td><td style=\"text-align: right;\">0.359048</td></tr>\n",
              "<tr><td>XGBoost_3_AutoML_20190320_222459                   </td><td style=\"text-align: right;\">              0.666667</td><td style=\"text-align: right;\"> 0.979291</td><td style=\"text-align: right;\">0.618823</td><td style=\"text-align: right;\">0.382942</td></tr>\n",
              "<tr><td>XGBoost_grid_1_AutoML_20190320_222459_model_4      </td><td style=\"text-align: right;\">              0.666667</td><td style=\"text-align: right;\"> 0.942253</td><td style=\"text-align: right;\">0.601085</td><td style=\"text-align: right;\">0.361303</td></tr>\n",
              "<tr><td>XGBoost_2_AutoML_20190320_222459                   </td><td style=\"text-align: right;\">              0.666667</td><td style=\"text-align: right;\"> 0.971734</td><td style=\"text-align: right;\">0.615961</td><td style=\"text-align: right;\">0.379408</td></tr>\n",
              "<tr><td>XGBoost_grid_1_AutoML_20190320_222459_model_1      </td><td style=\"text-align: right;\">              0.666667</td><td style=\"text-align: right;\"> 0.945237</td><td style=\"text-align: right;\">0.601561</td><td style=\"text-align: right;\">0.361875</td></tr>\n",
              "<tr><td>XGBoost_grid_1_AutoML_20190320_222459_model_3      </td><td style=\"text-align: right;\">              0.666667</td><td style=\"text-align: right;\"> 0.953771</td><td style=\"text-align: right;\">0.605054</td><td style=\"text-align: right;\">0.36609 </td></tr>\n",
              "<tr><td>DeepLearning_grid_1_AutoML_20190320_222459_model_2 </td><td style=\"text-align: right;\">              0.666667</td><td style=\"text-align: right;\"> 1.30682 </td><td style=\"text-align: right;\">0.652082</td><td style=\"text-align: right;\">0.425211</td></tr>\n",
              "<tr><td>GLM_grid_1_AutoML_20190320_222459_model_1          </td><td style=\"text-align: right;\">              0.666667</td><td style=\"text-align: right;\"> 0.955539</td><td style=\"text-align: right;\">0.597254</td><td style=\"text-align: right;\">0.356713</td></tr>\n",
              "</tbody>\n",
              "</table>"
            ]
          },
          "metadata": {
            "tags": []
          }
        },
        {
          "output_type": "execute_result",
          "data": {
            "text/plain": [
              ""
            ]
          },
          "metadata": {
            "tags": []
          },
          "execution_count": 33
        }
      ]
    },
    {
      "metadata": {
        "id": "QCnDonLSNYF7",
        "colab_type": "code",
        "colab": {
          "base_uri": "https://localhost:8080/",
          "height": 1598
        },
        "outputId": "39b2c2de-dd49-4a38-e9a2-5ba20de8b0ad"
      },
      "cell_type": "code",
      "source": [
        "# The leader model is stored here\n",
        "aml.leader"
      ],
      "execution_count": 34,
      "outputs": [
        {
          "output_type": "stream",
          "text": [
            "Model Details\n",
            "=============\n",
            "H2OGradientBoostingEstimator :  Gradient Boosting Machine\n",
            "Model Key:  GBM_3_AutoML_20190320_222459\n",
            "\n",
            "\n",
            "ModelMetricsMultinomial: gbm\n",
            "** Reported on train data. **\n",
            "\n",
            "MSE: 0.003479620781523639\n",
            "RMSE: 0.05898831054983385\n",
            "LogLoss: 0.04024646567686367\n",
            "Mean Per-Class Error: 0.002287138211001661\n",
            "Confusion Matrix: Row labels: Actual class; Column labels: Predicted class\n",
            "\n"
          ],
          "name": "stdout"
        },
        {
          "output_type": "display_data",
          "data": {
            "text/html": [
              "<div style=\"overflow:auto\"><table style=\"width:50%\"><tr><td><b>negative</b></td>\n",
              "<td><b>neutral</b></td>\n",
              "<td><b>positive</b></td>\n",
              "<td><b>Error</b></td>\n",
              "<td><b>Rate</b></td></tr>\n",
              "<tr><td>139.0</td>\n",
              "<td>0.0</td>\n",
              "<td>0.0</td>\n",
              "<td>0.0</td>\n",
              "<td>0 / 139</td></tr>\n",
              "<tr><td>1.0</td>\n",
              "<td>630.0</td>\n",
              "<td>1.0</td>\n",
              "<td>0.0031646</td>\n",
              "<td>2 / 632</td></tr>\n",
              "<tr><td>0.0</td>\n",
              "<td>2.0</td>\n",
              "<td>539.0</td>\n",
              "<td>0.0036969</td>\n",
              "<td>2 / 541</td></tr>\n",
              "<tr><td>140.0</td>\n",
              "<td>632.0</td>\n",
              "<td>540.0</td>\n",
              "<td>0.0030488</td>\n",
              "<td>4 / 1,312</td></tr></table></div>"
            ],
            "text/plain": [
              "negative    neutral    positive    Error       Rate\n",
              "----------  ---------  ----------  ----------  ---------\n",
              "139         0          0           0           0 / 139\n",
              "1           630        1           0.00316456  2 / 632\n",
              "0           2          539         0.00369686  2 / 541\n",
              "140         632        540         0.00304878  4 / 1,312"
            ]
          },
          "metadata": {
            "tags": []
          }
        },
        {
          "output_type": "stream",
          "text": [
            "Top-3 Hit Ratios: \n"
          ],
          "name": "stdout"
        },
        {
          "output_type": "display_data",
          "data": {
            "text/html": [
              "<div style=\"overflow:auto\"><table style=\"width:50%\"><tr><td><b>k</b></td>\n",
              "<td><b>hit_ratio</b></td></tr>\n",
              "<tr><td>1</td>\n",
              "<td>0.9969512</td></tr>\n",
              "<tr><td>2</td>\n",
              "<td>1.0</td></tr>\n",
              "<tr><td>3</td>\n",
              "<td>1.0</td></tr></table></div>"
            ],
            "text/plain": [
              "k    hit_ratio\n",
              "---  -----------\n",
              "1    0.996951\n",
              "2    1\n",
              "3    1"
            ]
          },
          "metadata": {
            "tags": []
          }
        },
        {
          "output_type": "stream",
          "text": [
            "\n",
            "ModelMetricsMultinomial: gbm\n",
            "** Reported on cross-validation data. **\n",
            "\n",
            "MSE: 0.37811632960475855\n",
            "RMSE: 0.6149116437381541\n",
            "LogLoss: 1.002634385476192\n",
            "Mean Per-Class Error: 0.5752572092399784\n",
            "Confusion Matrix: Row labels: Actual class; Column labels: Predicted class\n",
            "\n"
          ],
          "name": "stdout"
        },
        {
          "output_type": "display_data",
          "data": {
            "text/html": [
              "<div style=\"overflow:auto\"><table style=\"width:50%\"><tr><td><b>negative</b></td>\n",
              "<td><b>neutral</b></td>\n",
              "<td><b>positive</b></td>\n",
              "<td><b>Error</b></td>\n",
              "<td><b>Rate</b></td></tr>\n",
              "<tr><td>20.0</td>\n",
              "<td>47.0</td>\n",
              "<td>72.0</td>\n",
              "<td>0.8561151</td>\n",
              "<td>119 / 139</td></tr>\n",
              "<tr><td>48.0</td>\n",
              "<td>302.0</td>\n",
              "<td>282.0</td>\n",
              "<td>0.5221519</td>\n",
              "<td>330 / 632</td></tr>\n",
              "<tr><td>61.0</td>\n",
              "<td>127.0</td>\n",
              "<td>353.0</td>\n",
              "<td>0.3475046</td>\n",
              "<td>188 / 541</td></tr>\n",
              "<tr><td>129.0</td>\n",
              "<td>476.0</td>\n",
              "<td>707.0</td>\n",
              "<td>0.4855183</td>\n",
              "<td>637 / 1,312</td></tr></table></div>"
            ],
            "text/plain": [
              "negative    neutral    positive    Error     Rate\n",
              "----------  ---------  ----------  --------  -----------\n",
              "20          47         72          0.856115  119 / 139\n",
              "48          302        282         0.522152  330 / 632\n",
              "61          127        353         0.347505  188 / 541\n",
              "129         476        707         0.485518  637 / 1,312"
            ]
          },
          "metadata": {
            "tags": []
          }
        },
        {
          "output_type": "stream",
          "text": [
            "Top-3 Hit Ratios: \n"
          ],
          "name": "stdout"
        },
        {
          "output_type": "display_data",
          "data": {
            "text/html": [
              "<div style=\"overflow:auto\"><table style=\"width:50%\"><tr><td><b>k</b></td>\n",
              "<td><b>hit_ratio</b></td></tr>\n",
              "<tr><td>1</td>\n",
              "<td>0.5144817</td></tr>\n",
              "<tr><td>2</td>\n",
              "<td>0.7301829</td></tr>\n",
              "<tr><td>3</td>\n",
              "<td>1.0</td></tr></table></div>"
            ],
            "text/plain": [
              "k    hit_ratio\n",
              "---  -----------\n",
              "1    0.514482\n",
              "2    0.730183\n",
              "3    1"
            ]
          },
          "metadata": {
            "tags": []
          }
        },
        {
          "output_type": "stream",
          "text": [
            "Cross-Validation Metrics Summary: \n"
          ],
          "name": "stdout"
        },
        {
          "output_type": "display_data",
          "data": {
            "text/html": [
              "<div style=\"overflow:auto\"><table style=\"width:50%\"><tr><td><b></b></td>\n",
              "<td><b>mean</b></td>\n",
              "<td><b>sd</b></td>\n",
              "<td><b>cv_1_valid</b></td>\n",
              "<td><b>cv_2_valid</b></td>\n",
              "<td><b>cv_3_valid</b></td>\n",
              "<td><b>cv_4_valid</b></td>\n",
              "<td><b>cv_5_valid</b></td></tr>\n",
              "<tr><td>accuracy</td>\n",
              "<td>0.514498</td>\n",
              "<td>0.0240691</td>\n",
              "<td>0.4638783</td>\n",
              "<td>0.5437263</td>\n",
              "<td>0.5496183</td>\n",
              "<td>0.5305343</td>\n",
              "<td>0.4847328</td></tr>\n",
              "<tr><td>err</td>\n",
              "<td>0.4855020</td>\n",
              "<td>0.0240691</td>\n",
              "<td>0.5361217</td>\n",
              "<td>0.4562738</td>\n",
              "<td>0.4503817</td>\n",
              "<td>0.4694656</td>\n",
              "<td>0.5152672</td></tr>\n",
              "<tr><td>err_count</td>\n",
              "<td>127.4</td>\n",
              "<td>6.3655324</td>\n",
              "<td>141.0</td>\n",
              "<td>120.0</td>\n",
              "<td>118.0</td>\n",
              "<td>123.0</td>\n",
              "<td>135.0</td></tr>\n",
              "<tr><td>logloss</td>\n",
              "<td>1.0025539</td>\n",
              "<td>0.0337019</td>\n",
              "<td>1.0729526</td>\n",
              "<td>1.037757</td>\n",
              "<td>0.9391165</td>\n",
              "<td>0.9926461</td>\n",
              "<td>0.9702972</td></tr>\n",
              "<tr><td>max_per_class_error</td>\n",
              "<td>0.8782043</td>\n",
              "<td>0.0994082</td>\n",
              "<td>0.6525424</td>\n",
              "<td>0.9642857</td>\n",
              "<td>1.0</td>\n",
              "<td>1.0</td>\n",
              "<td>0.7741935</td></tr>\n",
              "<tr><td>mean_per_class_accuracy</td>\n",
              "<td>0.4224973</td>\n",
              "<td>0.0114296</td>\n",
              "<td>0.4520261</td>\n",
              "<td>0.4169557</td>\n",
              "<td>0.4087043</td>\n",
              "<td>0.4084142</td>\n",
              "<td>0.426386</td></tr>\n",
              "<tr><td>mean_per_class_error</td>\n",
              "<td>0.5775027</td>\n",
              "<td>0.0114296</td>\n",
              "<td>0.5479739</td>\n",
              "<td>0.5830443</td>\n",
              "<td>0.5912957</td>\n",
              "<td>0.5915858</td>\n",
              "<td>0.573614</td></tr>\n",
              "<tr><td>mse</td>\n",
              "<td>0.3780968</td>\n",
              "<td>0.0083848</td>\n",
              "<td>0.394388</td>\n",
              "<td>0.3874008</td>\n",
              "<td>0.3607019</td>\n",
              "<td>0.3767239</td>\n",
              "<td>0.3712695</td></tr>\n",
              "<tr><td>r2</td>\n",
              "<td>0.1067800</td>\n",
              "<td>0.0294355</td>\n",
              "<td>0.1075239</td>\n",
              "<td>0.0810027</td>\n",
              "<td>0.1570482</td>\n",
              "<td>0.0433976</td>\n",
              "<td>0.1449278</td></tr>\n",
              "<tr><td>rmse</td>\n",
              "<td>0.6148201</td>\n",
              "<td>0.0068226</td>\n",
              "<td>0.6280032</td>\n",
              "<td>0.6224153</td>\n",
              "<td>0.6005846</td>\n",
              "<td>0.6137784</td>\n",
              "<td>0.6093189</td></tr></table></div>"
            ],
            "text/plain": [
              "                         mean      sd          cv_1_valid    cv_2_valid    cv_3_valid    cv_4_valid    cv_5_valid\n",
              "-----------------------  --------  ----------  ------------  ------------  ------------  ------------  ------------\n",
              "accuracy                 0.514498  0.0240691   0.463878      0.543726      0.549618      0.530534      0.484733\n",
              "err                      0.485502  0.0240691   0.536122      0.456274      0.450382      0.469466      0.515267\n",
              "err_count                127.4     6.36553     141           120           118           123           135\n",
              "logloss                  1.00255   0.0337019   1.07295       1.03776       0.939117      0.992646      0.970297\n",
              "max_per_class_error      0.878204  0.0994082   0.652542      0.964286      1             1             0.774193\n",
              "mean_per_class_accuracy  0.422497  0.0114296   0.452026      0.416956      0.408704      0.408414      0.426386\n",
              "mean_per_class_error     0.577503  0.0114296   0.547974      0.583044      0.591296      0.591586      0.573614\n",
              "mse                      0.378097  0.00838478  0.394388      0.387401      0.360702      0.376724      0.37127\n",
              "r2                       0.10678   0.0294355   0.107524      0.0810027     0.157048      0.0433976     0.144928\n",
              "rmse                     0.61482   0.00682259  0.628003      0.622415      0.600585      0.613778      0.609319"
            ]
          },
          "metadata": {
            "tags": []
          }
        },
        {
          "output_type": "stream",
          "text": [
            "Scoring History: \n"
          ],
          "name": "stdout"
        },
        {
          "output_type": "display_data",
          "data": {
            "text/html": [
              "<div style=\"overflow:auto\"><table style=\"width:50%\"><tr><td><b></b></td>\n",
              "<td><b>timestamp</b></td>\n",
              "<td><b>duration</b></td>\n",
              "<td><b>number_of_trees</b></td>\n",
              "<td><b>training_rmse</b></td>\n",
              "<td><b>training_logloss</b></td>\n",
              "<td><b>training_classification_error</b></td></tr>\n",
              "<tr><td></td>\n",
              "<td>2019-03-20 22:27:02</td>\n",
              "<td> 3.634 sec</td>\n",
              "<td>0.0</td>\n",
              "<td>0.6666667</td>\n",
              "<td>1.0986123</td>\n",
              "<td>0.5975610</td></tr>\n",
              "<tr><td></td>\n",
              "<td>2019-03-20 22:27:02</td>\n",
              "<td> 3.735 sec</td>\n",
              "<td>5.0</td>\n",
              "<td>0.4231455</td>\n",
              "<td>0.5491733</td>\n",
              "<td>0.0068598</td></tr>\n",
              "<tr><td></td>\n",
              "<td>2019-03-20 22:27:02</td>\n",
              "<td> 3.839 sec</td>\n",
              "<td>10.0</td>\n",
              "<td>0.2644951</td>\n",
              "<td>0.3026707</td>\n",
              "<td>0.0038110</td></tr>\n",
              "<tr><td></td>\n",
              "<td>2019-03-20 22:27:02</td>\n",
              "<td> 3.941 sec</td>\n",
              "<td>15.0</td>\n",
              "<td>0.1658151</td>\n",
              "<td>0.1740057</td>\n",
              "<td>0.0030488</td></tr>\n",
              "<tr><td></td>\n",
              "<td>2019-03-20 22:27:03</td>\n",
              "<td> 4.046 sec</td>\n",
              "<td>20.0</td>\n",
              "<td>0.1072484</td>\n",
              "<td>0.1030964</td>\n",
              "<td>0.0030488</td></tr>\n",
              "<tr><td></td>\n",
              "<td>2019-03-20 22:27:03</td>\n",
              "<td> 4.156 sec</td>\n",
              "<td>25.0</td>\n",
              "<td>0.0751747</td>\n",
              "<td>0.0632271</td>\n",
              "<td>0.0030488</td></tr>\n",
              "<tr><td></td>\n",
              "<td>2019-03-20 22:27:03</td>\n",
              "<td> 4.262 sec</td>\n",
              "<td>30.0</td>\n",
              "<td>0.0589883</td>\n",
              "<td>0.0402465</td>\n",
              "<td>0.0030488</td></tr></table></div>"
            ],
            "text/plain": [
              "    timestamp            duration    number_of_trees    training_rmse    training_logloss    training_classification_error\n",
              "--  -------------------  ----------  -----------------  ---------------  ------------------  -------------------------------\n",
              "    2019-03-20 22:27:02  3.634 sec   0                  0.666667         1.09861             0.597561\n",
              "    2019-03-20 22:27:02  3.735 sec   5                  0.423146         0.549173            0.00685976\n",
              "    2019-03-20 22:27:02  3.839 sec   10                 0.264495         0.302671            0.00381098\n",
              "    2019-03-20 22:27:02  3.941 sec   15                 0.165815         0.174006            0.00304878\n",
              "    2019-03-20 22:27:03  4.046 sec   20                 0.107248         0.103096            0.00304878\n",
              "    2019-03-20 22:27:03  4.156 sec   25                 0.0751747        0.0632271           0.00304878\n",
              "    2019-03-20 22:27:03  4.262 sec   30                 0.0589883        0.0402465           0.00304878"
            ]
          },
          "metadata": {
            "tags": []
          }
        },
        {
          "output_type": "stream",
          "text": [
            "Variable Importances: \n"
          ],
          "name": "stdout"
        },
        {
          "output_type": "display_data",
          "data": {
            "text/html": [
              "<div style=\"overflow:auto\"><table style=\"width:50%\"><tr><td><b>variable</b></td>\n",
              "<td><b>relative_importance</b></td>\n",
              "<td><b>scaled_importance</b></td>\n",
              "<td><b>percentage</b></td></tr>\n",
              "<tr><td>text</td>\n",
              "<td>3553.1425781</td>\n",
              "<td>1.0</td>\n",
              "<td>1.0</td></tr></table></div>"
            ],
            "text/plain": [
              "variable    relative_importance    scaled_importance    percentage\n",
              "----------  ---------------------  -------------------  ------------\n",
              "text        3553.14                1                    1"
            ]
          },
          "metadata": {
            "tags": []
          }
        },
        {
          "output_type": "execute_result",
          "data": {
            "text/plain": [
              ""
            ]
          },
          "metadata": {
            "tags": []
          },
          "execution_count": 34
        }
      ]
    },
    {
      "metadata": {
        "id": "94CpUTw_QZ_l",
        "colab_type": "code",
        "colab": {}
      },
      "cell_type": "code",
      "source": [
        ""
      ],
      "execution_count": 0,
      "outputs": []
    }
  ]
}