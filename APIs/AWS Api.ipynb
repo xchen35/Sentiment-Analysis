{
 "cells": [
  {
   "cell_type": "code",
   "execution_count": 2,
   "metadata": {
    "scrolled": true
   },
   "outputs": [
    {
     "name": "stdout",
     "output_type": "stream",
     "text": [
      "Collecting boto3\n",
      "  Using cached https://files.pythonhosted.org/packages/68/52/7c0ffae88a765f020e3e85de7d02d64c1b67f8fe78c1d79c5586a493ebf9/boto3-1.9.118-py2.py3-none-any.whl\n",
      "Collecting botocore<1.13.0,>=1.12.118 (from boto3)\n",
      "  Using cached https://files.pythonhosted.org/packages/0c/2d/67bbe92954c680726b6c1ef1fd57e07fa6d927c049ae7a6c983026926063/botocore-1.12.118-py2.py3-none-any.whl\n",
      "Requirement already satisfied: jmespath<1.0.0,>=0.7.1 in c:\\users\\eason\\anaconda3\\lib\\site-packages (from boto3) (0.9.4)\n",
      "Collecting s3transfer<0.3.0,>=0.2.0 (from boto3)\n",
      "  Using cached https://files.pythonhosted.org/packages/d7/de/5737f602e22073ecbded7a0c590707085e154e32b68d86545dcc31004c02/s3transfer-0.2.0-py2.py3-none-any.whl\n",
      "Requirement already satisfied: urllib3<1.25,>=1.20; python_version >= \"3.4\" in c:\\users\\eason\\anaconda3\\lib\\site-packages (from botocore<1.13.0,>=1.12.118->boto3) (1.22)\n",
      "Requirement already satisfied: python-dateutil<3.0.0,>=2.1; python_version >= \"2.7\" in c:\\users\\eason\\anaconda3\\lib\\site-packages (from botocore<1.13.0,>=1.12.118->boto3) (2.6.1)\n",
      "Requirement already satisfied: docutils>=0.10 in c:\\users\\eason\\anaconda3\\lib\\site-packages (from botocore<1.13.0,>=1.12.118->boto3) (0.14)\n",
      "Requirement already satisfied: six>=1.5 in c:\\users\\eason\\anaconda3\\lib\\site-packages (from python-dateutil<3.0.0,>=2.1; python_version >= \"2.7\"->botocore<1.13.0,>=1.12.118->boto3) (1.11.0)\n",
      "Installing collected packages: botocore, s3transfer, boto3\n",
      "Successfully installed boto3-1.9.118 botocore-1.12.118 s3transfer-0.2.0\n",
      "Collecting awscli\n",
      "  Using cached https://files.pythonhosted.org/packages/49/b1/b6a9ac2a0b91539c50ae60f110d86b80cd802cdb865db935f33f95240880/awscli-1.16.128-py2.py3-none-any.whl\n",
      "Collecting rsa<=3.5.0,>=3.1.2 (from awscli)\n",
      "  Using cached https://files.pythonhosted.org/packages/e1/ae/baedc9cb175552e95f3395c43055a6a5e125ae4d48a1d7a924baca83e92e/rsa-3.4.2-py2.py3-none-any.whl\n",
      "Requirement already satisfied: PyYAML<=3.13,>=3.10 in c:\\users\\eason\\anaconda3\\lib\\site-packages (from awscli) (3.12)\n",
      "Requirement already satisfied: botocore==1.12.118 in c:\\users\\eason\\anaconda3\\lib\\site-packages (from awscli) (1.12.118)\n",
      "Requirement already satisfied: colorama<=0.3.9,>=0.2.5 in c:\\users\\eason\\anaconda3\\lib\\site-packages (from awscli) (0.3.9)\n",
      "Requirement already satisfied: docutils>=0.10 in c:\\users\\eason\\anaconda3\\lib\\site-packages (from awscli) (0.14)\n",
      "Requirement already satisfied: s3transfer<0.3.0,>=0.2.0 in c:\\users\\eason\\anaconda3\\lib\\site-packages (from awscli) (0.2.0)\n",
      "Collecting pyasn1>=0.1.3 (from rsa<=3.5.0,>=3.1.2->awscli)\n",
      "  Downloading https://files.pythonhosted.org/packages/7b/7c/c9386b82a25115cccf1903441bba3cbadcfae7b678a20167347fa8ded34c/pyasn1-0.4.5-py2.py3-none-any.whl (73kB)\n",
      "Requirement already satisfied: jmespath<1.0.0,>=0.7.1 in c:\\users\\eason\\anaconda3\\lib\\site-packages (from botocore==1.12.118->awscli) (0.9.4)\n",
      "Requirement already satisfied: urllib3<1.25,>=1.20; python_version >= \"3.4\" in c:\\users\\eason\\anaconda3\\lib\\site-packages (from botocore==1.12.118->awscli) (1.22)\n",
      "Requirement already satisfied: python-dateutil<3.0.0,>=2.1; python_version >= \"2.7\" in c:\\users\\eason\\anaconda3\\lib\\site-packages (from botocore==1.12.118->awscli) (2.6.1)\n",
      "Requirement already satisfied: six>=1.5 in c:\\users\\eason\\anaconda3\\lib\\site-packages (from python-dateutil<3.0.0,>=2.1; python_version >= \"2.7\"->botocore==1.12.118->awscli) (1.11.0)\n",
      "Installing collected packages: pyasn1, rsa, awscli\n",
      "Successfully installed awscli-1.16.128 pyasn1-0.4.5 rsa-3.4.2\n"
     ]
    }
   ],
   "source": [
    "!pip install boto3\n",
    "!pip install awscli"
   ]
  },
  {
   "cell_type": "code",
   "execution_count": 4,
   "metadata": {},
   "outputs": [
    {
     "name": "stderr",
     "output_type": "stream",
     "text": [
      "C:\\Users\\eason\\Anaconda3\\lib\\site-packages\\h5py\\__init__.py:34: FutureWarning: Conversion of the second argument of issubdtype from `float` to `np.floating` is deprecated. In future, it will be treated as `np.float64 == np.dtype(float).type`.\n",
      "  from ._conv import register_converters as _register_converters\n",
      "Using TensorFlow backend.\n"
     ]
    }
   ],
   "source": [
    "import sklearn.datasets\n",
    "import sklearn.metrics\n",
    "from sklearn.ensemble import GradientBoostingClassifier\n",
    "from sklearn.datasets import load_breast_cancer\n",
    "from sklearn.datasets import load_digits\n",
    "from sklearn.model_selection import train_test_split\n",
    "from tensorflow.python.keras.preprocessing.sequence import pad_sequences\n",
    "from sklearn.preprocessing import LabelBinarizer, LabelEncoder\n",
    "from keras.utils.np_utils import to_categorical\n",
    "import numpy as np\n",
    "import pandas as pd\n",
    "import warnings\n",
    "from keras.preprocessing.text import Tokenizer\n",
    "import re\n",
    "import boto3\n",
    "import json\n",
    "import awscli"
   ]
  },
  {
   "cell_type": "code",
   "execution_count": 5,
   "metadata": {},
   "outputs": [
    {
     "name": "stdout",
     "output_type": "stream",
     "text": [
      "easonheyc\n"
     ]
    }
   ],
   "source": [
    "s3 = boto3.resource('s3')\n",
    "for bucket in s3.buckets.all():\n",
    "    print(bucket.name)"
   ]
  },
  {
   "cell_type": "code",
   "execution_count": 6,
   "metadata": {},
   "outputs": [],
   "source": [
    "client = boto3.client(service_name='comprehend', region_name='us-east-2')"
   ]
  },
  {
   "cell_type": "code",
   "execution_count": 18,
   "metadata": {},
   "outputs": [],
   "source": [
    "response = client.start_sentiment_detection_job(\n",
    "    InputDataConfig={\n",
    "        'S3Uri': 's3://easonheyc/data.csv',\n",
    "        'InputFormat': 'ONE_DOC_PER_LINE'\n",
    "    },\n",
    "    OutputDataConfig={\n",
    "        'S3Uri': 's3://easonheyc/sentiment'\n",
    "    },\n",
    "    DataAccessRoleArn='arn:aws:iam::280546296447:role/service-role/AmazonComprehendServiceRole-eason',\n",
    "    JobName='sentiment',\n",
    "    LanguageCode='en'\n",
    ")"
   ]
  },
  {
   "cell_type": "code",
   "execution_count": 19,
   "metadata": {},
   "outputs": [
    {
     "name": "stdout",
     "output_type": "stream",
     "text": [
      "Start response: %s\n",
      " {'JobId': '92ca5102468380f064e74d03f3c15402', 'JobStatus': 'SUBMITTED', 'ResponseMetadata': {'RequestId': '5fc81109-4b73-11e9-b023-3d56d2e7451a', 'HTTPStatusCode': 200, 'HTTPHeaders': {'x-amzn-requestid': '5fc81109-4b73-11e9-b023-3d56d2e7451a', 'content-type': 'application/x-amz-json-1.1', 'content-length': '68', 'date': 'Thu, 21 Mar 2019 00:50:51 GMT'}, 'RetryAttempts': 0}}\n"
     ]
    }
   ],
   "source": [
    "print(\"Start response: %s\\n\", response)"
   ]
  },
  {
   "cell_type": "code",
   "execution_count": 37,
   "metadata": {},
   "outputs": [
    {
     "name": "stdout",
     "output_type": "stream",
     "text": [
      "Describe response: %s\n",
      " {'SentimentDetectionJobProperties': {'JobId': '92ca5102468380f064e74d03f3c15402', 'JobName': 'sentiment', 'JobStatus': 'COMPLETED', 'SubmitTime': datetime.datetime(2019, 3, 20, 20, 50, 51, 219000, tzinfo=tzlocal()), 'EndTime': datetime.datetime(2019, 3, 20, 20, 59, 29, 731000, tzinfo=tzlocal()), 'InputDataConfig': {'S3Uri': 's3://easonheyc/data.csv', 'InputFormat': 'ONE_DOC_PER_LINE'}, 'OutputDataConfig': {'S3Uri': 's3://easonheyc/sentiment/280546296447-SENTIMENT-92ca5102468380f064e74d03f3c15402/output/output.tar.gz'}, 'LanguageCode': 'en', 'DataAccessRoleArn': 'arn:aws:iam::280546296447:role/service-role/AmazonComprehendServiceRole-eason'}, 'ResponseMetadata': {'RequestId': 'c9bc4840-4b74-11e9-ad65-3b847a0dc006', 'HTTPStatusCode': 200, 'HTTPHeaders': {'x-amzn-requestid': 'c9bc4840-4b74-11e9-ad65-3b847a0dc006', 'content-type': 'application/x-amz-json-1.1', 'content-length': '523', 'date': 'Thu, 21 Mar 2019 01:00:58 GMT'}, 'RetryAttempts': 0}}\n"
     ]
    }
   ],
   "source": [
    "# Check the status of the job\n",
    "describe_response = client.describe_sentiment_detection_job(JobId=response['JobId'])\n",
    "print(\"Describe response: %s\\n\", describe_response)"
   ]
  },
  {
   "cell_type": "code",
   "execution_count": 46,
   "metadata": {},
   "outputs": [],
   "source": [
    "output = pd.read_csv('output.csv')"
   ]
  },
  {
   "cell_type": "code",
   "execution_count": 82,
   "metadata": {},
   "outputs": [
    {
     "data": {
      "text/html": [
       "<div>\n",
       "<style scoped>\n",
       "    .dataframe tbody tr th:only-of-type {\n",
       "        vertical-align: middle;\n",
       "    }\n",
       "\n",
       "    .dataframe tbody tr th {\n",
       "        vertical-align: top;\n",
       "    }\n",
       "\n",
       "    .dataframe thead th {\n",
       "        text-align: right;\n",
       "    }\n",
       "</style>\n",
       "<table border=\"1\" class=\"dataframe\">\n",
       "  <thead>\n",
       "    <tr style=\"text-align: right;\">\n",
       "      <th></th>\n",
       "      <th>{\"File\": \"data.csv\"</th>\n",
       "      <th>\"Line\": 0</th>\n",
       "      <th>\"Sentiment\": \"NEUTRAL\"</th>\n",
       "      <th>\"SentimentScore\": {\"Mixed\": 0.01039357390254736</th>\n",
       "      <th>\"Negative\": 0.058567967265844345</th>\n",
       "      <th>\"Neutral\": 0.8293421864509583</th>\n",
       "      <th>\"Positive\": 0.10169627517461777}}</th>\n",
       "    </tr>\n",
       "  </thead>\n",
       "  <tbody>\n",
       "    <tr>\n",
       "      <th>0</th>\n",
       "      <td>{\"File\": \"data.csv\"</td>\n",
       "      <td>\"Line\": 1</td>\n",
       "      <td>\"Sentiment\": \"POSITIVE\"</td>\n",
       "      <td>\"SentimentScore\": {\"Mixed\": 0.002648639958351...</td>\n",
       "      <td>\"Negative\": 0.002754013054072857</td>\n",
       "      <td>\"Neutral\": 0.20098717510700226</td>\n",
       "      <td>\"Positive\": 0.793610155582428}}</td>\n",
       "    </tr>\n",
       "    <tr>\n",
       "      <th>1</th>\n",
       "      <td>{\"File\": \"data.csv\"</td>\n",
       "      <td>\"Line\": 2</td>\n",
       "      <td>\"Sentiment\": \"NEUTRAL\"</td>\n",
       "      <td>\"SentimentScore\": {\"Mixed\": 0.009224679321050644</td>\n",
       "      <td>\"Negative\": 0.00791002158075571</td>\n",
       "      <td>\"Neutral\": 0.793932318687439</td>\n",
       "      <td>\"Positive\": 0.18893304467201233}}</td>\n",
       "    </tr>\n",
       "    <tr>\n",
       "      <th>2</th>\n",
       "      <td>{\"File\": \"data.csv\"</td>\n",
       "      <td>\"Line\": 3</td>\n",
       "      <td>\"Sentiment\": \"NEUTRAL\"</td>\n",
       "      <td>\"SentimentScore\": {\"Mixed\": 0.006865730043500662</td>\n",
       "      <td>\"Negative\": 0.1357971727848053</td>\n",
       "      <td>\"Neutral\": 0.8557537794113159</td>\n",
       "      <td>\"Positive\": 0.0015832841163501143}}</td>\n",
       "    </tr>\n",
       "    <tr>\n",
       "      <th>3</th>\n",
       "      <td>{\"File\": \"data.csv\"</td>\n",
       "      <td>\"Line\": 4</td>\n",
       "      <td>\"Sentiment\": \"POSITIVE\"</td>\n",
       "      <td>\"SentimentScore\": {\"Mixed\": 0.01740359328687191</td>\n",
       "      <td>\"Negative\": 0.0007852203561924398</td>\n",
       "      <td>\"Neutral\": 0.2256394475698471</td>\n",
       "      <td>\"Positive\": 0.7561717629432678}}</td>\n",
       "    </tr>\n",
       "    <tr>\n",
       "      <th>4</th>\n",
       "      <td>{\"File\": \"data.csv\"</td>\n",
       "      <td>\"Line\": 5</td>\n",
       "      <td>\"Sentiment\": \"NEUTRAL\"</td>\n",
       "      <td>\"SentimentScore\": {\"Mixed\": 0.004719793330878019</td>\n",
       "      <td>\"Negative\": 0.03092263825237751</td>\n",
       "      <td>\"Neutral\": 0.9173388481140137</td>\n",
       "      <td>\"Positive\": 0.047018732875585556}}</td>\n",
       "    </tr>\n",
       "    <tr>\n",
       "      <th>5</th>\n",
       "      <td>{\"File\": \"data.csv\"</td>\n",
       "      <td>\"Line\": 6</td>\n",
       "      <td>\"Sentiment\": \"NEUTRAL\"</td>\n",
       "      <td>\"SentimentScore\": {\"Mixed\": 0.009875085204839706</td>\n",
       "      <td>\"Negative\": 0.07467585802078247</td>\n",
       "      <td>\"Neutral\": 0.8431217670440674</td>\n",
       "      <td>\"Positive\": 0.07232736796140671}}</td>\n",
       "    </tr>\n",
       "    <tr>\n",
       "      <th>6</th>\n",
       "      <td>{\"File\": \"data.csv\"</td>\n",
       "      <td>\"Line\": 7</td>\n",
       "      <td>\"Sentiment\": \"NEUTRAL\"</td>\n",
       "      <td>\"SentimentScore\": {\"Mixed\": 0.002160169649869...</td>\n",
       "      <td>\"Negative\": 0.0043444205075502396</td>\n",
       "      <td>\"Neutral\": 0.9272862672805786</td>\n",
       "      <td>\"Positive\": 0.06620916724205017}}</td>\n",
       "    </tr>\n",
       "    <tr>\n",
       "      <th>7</th>\n",
       "      <td>{\"File\": \"data.csv\"</td>\n",
       "      <td>\"Line\": 8</td>\n",
       "      <td>\"Sentiment\": \"POSITIVE\"</td>\n",
       "      <td>\"SentimentScore\": {\"Mixed\": 0.028535146266222</td>\n",
       "      <td>\"Negative\": 0.00031787517946213484</td>\n",
       "      <td>\"Neutral\": 0.013152285479009151</td>\n",
       "      <td>\"Positive\": 0.9579946994781494}}</td>\n",
       "    </tr>\n",
       "    <tr>\n",
       "      <th>8</th>\n",
       "      <td>{\"File\": \"data.csv\"</td>\n",
       "      <td>\"Line\": 9</td>\n",
       "      <td>\"Sentiment\": \"NEUTRAL\"</td>\n",
       "      <td>\"SentimentScore\": {\"Mixed\": 0.004719793330878019</td>\n",
       "      <td>\"Negative\": 0.03092263825237751</td>\n",
       "      <td>\"Neutral\": 0.9173388481140137</td>\n",
       "      <td>\"Positive\": 0.047018732875585556}}</td>\n",
       "    </tr>\n",
       "    <tr>\n",
       "      <th>9</th>\n",
       "      <td>{\"File\": \"data.csv\"</td>\n",
       "      <td>\"Line\": 10</td>\n",
       "      <td>\"Sentiment\": \"NEUTRAL\"</td>\n",
       "      <td>\"SentimentScore\": {\"Mixed\": 0.002401404781267047</td>\n",
       "      <td>\"Negative\": 0.01871020346879959</td>\n",
       "      <td>\"Neutral\": 0.9573071599006653</td>\n",
       "      <td>\"Positive\": 0.021581171080470085}}</td>\n",
       "    </tr>\n",
       "  </tbody>\n",
       "</table>\n",
       "</div>"
      ],
      "text/plain": [
       "   {\"File\": \"data.csv\"    \"Line\": 0    \"Sentiment\": \"NEUTRAL\"  \\\n",
       "0  {\"File\": \"data.csv\"    \"Line\": 1   \"Sentiment\": \"POSITIVE\"   \n",
       "1  {\"File\": \"data.csv\"    \"Line\": 2    \"Sentiment\": \"NEUTRAL\"   \n",
       "2  {\"File\": \"data.csv\"    \"Line\": 3    \"Sentiment\": \"NEUTRAL\"   \n",
       "3  {\"File\": \"data.csv\"    \"Line\": 4   \"Sentiment\": \"POSITIVE\"   \n",
       "4  {\"File\": \"data.csv\"    \"Line\": 5    \"Sentiment\": \"NEUTRAL\"   \n",
       "5  {\"File\": \"data.csv\"    \"Line\": 6    \"Sentiment\": \"NEUTRAL\"   \n",
       "6  {\"File\": \"data.csv\"    \"Line\": 7    \"Sentiment\": \"NEUTRAL\"   \n",
       "7  {\"File\": \"data.csv\"    \"Line\": 8   \"Sentiment\": \"POSITIVE\"   \n",
       "8  {\"File\": \"data.csv\"    \"Line\": 9    \"Sentiment\": \"NEUTRAL\"   \n",
       "9  {\"File\": \"data.csv\"   \"Line\": 10    \"Sentiment\": \"NEUTRAL\"   \n",
       "\n",
       "     \"SentimentScore\": {\"Mixed\": 0.01039357390254736  \\\n",
       "0   \"SentimentScore\": {\"Mixed\": 0.002648639958351...   \n",
       "1   \"SentimentScore\": {\"Mixed\": 0.009224679321050644   \n",
       "2   \"SentimentScore\": {\"Mixed\": 0.006865730043500662   \n",
       "3    \"SentimentScore\": {\"Mixed\": 0.01740359328687191   \n",
       "4   \"SentimentScore\": {\"Mixed\": 0.004719793330878019   \n",
       "5   \"SentimentScore\": {\"Mixed\": 0.009875085204839706   \n",
       "6   \"SentimentScore\": {\"Mixed\": 0.002160169649869...   \n",
       "7      \"SentimentScore\": {\"Mixed\": 0.028535146266222   \n",
       "8   \"SentimentScore\": {\"Mixed\": 0.004719793330878019   \n",
       "9   \"SentimentScore\": {\"Mixed\": 0.002401404781267047   \n",
       "\n",
       "      \"Negative\": 0.058567967265844345     \"Neutral\": 0.8293421864509583  \\\n",
       "0     \"Negative\": 0.002754013054072857    \"Neutral\": 0.20098717510700226   \n",
       "1      \"Negative\": 0.00791002158075571      \"Neutral\": 0.793932318687439   \n",
       "2       \"Negative\": 0.1357971727848053     \"Neutral\": 0.8557537794113159   \n",
       "3    \"Negative\": 0.0007852203561924398     \"Neutral\": 0.2256394475698471   \n",
       "4      \"Negative\": 0.03092263825237751     \"Neutral\": 0.9173388481140137   \n",
       "5      \"Negative\": 0.07467585802078247     \"Neutral\": 0.8431217670440674   \n",
       "6    \"Negative\": 0.0043444205075502396     \"Neutral\": 0.9272862672805786   \n",
       "7   \"Negative\": 0.00031787517946213484   \"Neutral\": 0.013152285479009151   \n",
       "8      \"Negative\": 0.03092263825237751     \"Neutral\": 0.9173388481140137   \n",
       "9      \"Negative\": 0.01871020346879959     \"Neutral\": 0.9573071599006653   \n",
       "\n",
       "      \"Positive\": 0.10169627517461777}}  \n",
       "0       \"Positive\": 0.793610155582428}}  \n",
       "1     \"Positive\": 0.18893304467201233}}  \n",
       "2   \"Positive\": 0.0015832841163501143}}  \n",
       "3      \"Positive\": 0.7561717629432678}}  \n",
       "4    \"Positive\": 0.047018732875585556}}  \n",
       "5     \"Positive\": 0.07232736796140671}}  \n",
       "6     \"Positive\": 0.06620916724205017}}  \n",
       "7      \"Positive\": 0.9579946994781494}}  \n",
       "8    \"Positive\": 0.047018732875585556}}  \n",
       "9    \"Positive\": 0.021581171080470085}}  "
      ]
     },
     "execution_count": 82,
     "metadata": {},
     "output_type": "execute_result"
    }
   ],
   "source": [
    "output.head(10)"
   ]
  }
 ],
 "metadata": {
  "kernelspec": {
   "display_name": "Python 3",
   "language": "python",
   "name": "python3"
  },
  "language_info": {
   "codemirror_mode": {
    "name": "ipython",
    "version": 3
   },
   "file_extension": ".py",
   "mimetype": "text/x-python",
   "name": "python",
   "nbconvert_exporter": "python",
   "pygments_lexer": "ipython3",
   "version": "3.6.3"
  }
 },
 "nbformat": 4,
 "nbformat_minor": 2
}
